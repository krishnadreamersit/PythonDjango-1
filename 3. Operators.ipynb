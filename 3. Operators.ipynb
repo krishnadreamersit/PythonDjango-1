{
 "cells": [
  {
   "cell_type": "markdown",
   "id": "34fc81cd",
   "metadata": {},
   "source": [
    "## Opertors"
   ]
  },
  {
   "cell_type": "code",
   "execution_count": 17,
   "id": "081ed3d8",
   "metadata": {},
   "outputs": [
    {
     "name": "stdout",
     "output_type": "stream",
     "text": [
      "2\n",
      "1\n",
      "13\n",
      "91.45\n",
      "(77+185j)\n",
      "123Nepal\n",
      "[1, 2, 3, 4, 4, 5, 6, 7]\n",
      "(1, 2, 3, 4, 5, 6, 7, 8, 9, 10)\n",
      "array('i', [3, 4, 5, 4, 5, 6, 7, 7, 8])\n"
     ]
    }
   ],
   "source": [
    "# Addition a + b\n",
    "\n",
    "import array\n",
    "\n",
    "class C1:\n",
    "    pass\n",
    "\n",
    "\n",
    "# print(None+None) # does not supprt\n",
    "print(True+True)\n",
    "print(False+True)\n",
    "print(10+3)\n",
    "print(34.56+56.89)\n",
    "print(45+87j+32+98J)\n",
    "print(\"123\"+\"Nepal\") # Concatenation\n",
    "print([1,2,3,4]+[4,5,6,7]) # Concatenation\n",
    "print((1,2,3,4,5)+(6,7,8,9,10)) # Concatenation\n",
    "print(array.array('i',[3,4,5])+array.array('i',[4,5,6,7,7,8])) # Concatenation\n",
    "\n",
    "obj1 = C1()\n",
    "obj2 = C1()\n",
    "# print(obj1+obj2) # unsupported operand type(s) for +: 'C1' and 'C1'\n",
    "\n",
    "# print({1,3,4,5}+{4,6,7,8}) # does not support\n",
    "# print({'id':1}+{'name':'Raj'}) # does not support"
   ]
  },
  {
   "cell_type": "code",
   "execution_count": null,
   "id": "bc8d77a4",
   "metadata": {},
   "outputs": [],
   "source": [
    "# Subtraction  a - b \n",
    "\n",
    "import array\n",
    "\n",
    "class C1:\n",
    "    pass\n",
    "\n",
    "\n",
    "# print(None-None) # does not supprt\n",
    "\n",
    "print(True-True)\n",
    "print(False-True)\n",
    "print(10-3)\n",
    "print(34.56-56.89)\n",
    "print(45+87j-32+98J)\n",
    "\n",
    "# print(\"123\"-\"Nepal\") # does not support\n",
    "# print([1,2,3,4]-[4,5,6,7]) # does not support\n",
    "# print((1,2,3,4,5)-(6,7,8,9,10)) # does not support\n",
    "# print(array.array('i',[3,4,5])-array.array('i',[4,5,6,7,7,8])) # Concatenation\n",
    "\n",
    "# print({1,3,4,5}-{4,6,7,8}) # does not support\n",
    "# print({'id':1}-{'name':'Raj'}) # does not support\n",
    "\n",
    "obj1 = C1()\n",
    "obj2 = C1()\n",
    "# print(obj1-obj2) # unsupported operand type(s) for +: 'C1' and 'C1'"
   ]
  },
  {
   "cell_type": "code",
   "execution_count": 30,
   "id": "5bc2ce82",
   "metadata": {},
   "outputs": [
    {
     "name": "stdout",
     "output_type": "stream",
     "text": [
      "1.0\n",
      "0.0\n",
      "7\n",
      "0.6074881349973633\n",
      "(45+100.71875j)\n",
      "2.4\n",
      "2\n"
     ]
    }
   ],
   "source": [
    "# Division a / b a//b (float division, and integer division)\n",
    "\n",
    "#print(None/None) # does not supprt\n",
    "print(True/True)\n",
    "print(False/True)\n",
    "print(10-3)\n",
    "print(34.56/56.89)\n",
    "print(45+87j/32+98J)\n",
    "# print(\"123\"/\"Nepal\") # does not support\n",
    "# print([1,2,3,4]/[4,5,6,7]) # Concatenation\n",
    "# print((1,2,3,4,5)/(6,7,8,9,10)) # Concatenation\n",
    "# print(array.array('i',[3,4,5])/array.array('i',[4,5,6,7,7,8])) # Concatenation\n",
    "# print({1,3,4,5}/{4,6,7,8}) # does not support\n",
    "# print({'id':1}/{'name':'Raj'}) # does not support\n",
    "\n",
    "\n",
    "obj1 = C1()\n",
    "obj2 = C1()\n",
    "# print(obj1/obj2) # unsupported operand type(s) for +: 'C1' and 'C1'\n",
    "\n",
    "result = 12/5\n",
    "print(result)\n",
    "\n",
    "result = 12//5 # integer division; floor division\n",
    "print(result) # "
   ]
  },
  {
   "cell_type": "code",
   "execution_count": 35,
   "id": "4b60ece1",
   "metadata": {},
   "outputs": [
    {
     "name": "stdout",
     "output_type": "stream",
     "text": [
      "6\n",
      "8\n",
      "8.0\n"
     ]
    }
   ],
   "source": [
    "# Exponentiation (a ** b)\n",
    "print(2*3) # multiply operator\n",
    "  \n",
    "print(2**3) # power (base, exponent)\n",
    "\n",
    "import math\n",
    "print(math.pow(2,3)) # power function of math class"
   ]
  },
  {
   "cell_type": "code",
   "execution_count": 38,
   "id": "4bc94d8e",
   "metadata": {},
   "outputs": [
    {
     "name": "stdout",
     "output_type": "stream",
     "text": [
      "1\n",
      "1.5\n",
      "1\n"
     ]
    }
   ],
   "source": [
    "# Modulo a % b\n",
    "print(3%2) # modulo (mod)\n",
    "print(3/2) # float division\n",
    "print(3//2) # integer division"
   ]
  },
  {
   "cell_type": "code",
   "execution_count": 75,
   "id": "e2146a6f",
   "metadata": {},
   "outputs": [
    {
     "name": "stdout",
     "output_type": "stream",
     "text": [
      "1\n",
      "0\n",
      "30\n",
      "1966.1184\n"
     ]
    }
   ],
   "source": [
    "# Multiplication a * b\n",
    "\n",
    "# print(None*None) # does not supprt\n",
    "\n",
    "print(True*True)\n",
    "print(False*True)\n",
    "print(10*3)\n",
    "print(34.56*56.89)\n",
    "\n",
    "# print(45+87j*32+98J) # result does not natural\n",
    "\n",
    "# print(\"123\"*\"234\") # does not support\n",
    "\n",
    "# print([1,2,3,4]*[4,5,6,7]) # does not support\n",
    "# print((1,2,3,4,5)*(6,7,8,9,10)) # does not support\n",
    "# print(array.array('i',[3,4,5])*array.array('i',[4,5,6,7,7,8])) # does not support\n",
    "\n",
    "# print({1,3,4,5}*{4,6,7,8}) # does not support\n",
    "# print({'id':1}*{'name':'Raj'}) # does not support\n",
    "\n",
    "\n",
    "obj1 = C1()\n",
    "obj2 = C1()\n",
    "\n",
    "# print(obj1*obj2) # unsupported operand type(s) for +: 'C1' and 'C1' "
   ]
  },
  {
   "cell_type": "code",
   "execution_count": 57,
   "id": "feda26e4",
   "metadata": {},
   "outputs": [],
   "source": [
    "# Matrix Multiplication (a @ b)\n",
    "\n",
    "m1 = [\n",
    "    [1,3],\n",
    "    [4,6]\n",
    "]\n",
    "\n",
    "m2 = [\n",
    "    [5,6],\n",
    "    [6,7]\n",
    "]\n",
    "\n",
    "# m3 = m1 @ m2"
   ]
  },
  {
   "cell_type": "code",
   "execution_count": 61,
   "id": "b313d857",
   "metadata": {},
   "outputs": [
    {
     "name": "stdout",
     "output_type": "stream",
     "text": [
      "-5\n",
      "5.0\n"
     ]
    }
   ],
   "source": [
    "# Negation (Arithmetic) -a\n",
    "# Positive + a\n",
    "\n",
    "num1 = -5\n",
    "print(num1)\n",
    "\n",
    "# how to convert -ve to +ve\n",
    "import math\n",
    "print(math.fabs(num1))"
   ]
  },
  {
   "cell_type": "code",
   "execution_count": 82,
   "id": "2a63b5b8",
   "metadata": {},
   "outputs": [
    {
     "name": "stdout",
     "output_type": "stream",
     "text": [
      "True\n",
      "False\n",
      "False\n",
      "True\n",
      "False\n",
      "True\n"
     ]
    }
   ],
   "source": [
    "# Ordering - Comparision/Relational Operators\n",
    "# compares two value and return boolean result\n",
    "\n",
    "num1 = 10\n",
    "num2 = 10\n",
    "print(num1==num1)\n",
    "print(num1!=num1)\n",
    "print(num1>num2)\n",
    "print(num1>=num2)\n",
    "print(num1<num2)\n",
    "print(num1<=num2)\n"
   ]
  },
  {
   "cell_type": "code",
   "execution_count": 5,
   "id": "900dc5dc",
   "metadata": {},
   "outputs": [
    {
     "name": "stdout",
     "output_type": "stream",
     "text": [
      "5\n",
      "8\n",
      "0\n",
      "1\n",
      "2\n",
      "10\n"
     ]
    }
   ],
   "source": [
    "# Assignment Operator \n",
    "num1 = 5 # Simple assignment operator\n",
    "print(num1)\n",
    "num1 = num2 = num3 = 6 # Multiple Assignment Operator\n",
    "num1 += 2 # Short-hand Assignment Operator num1 = num1 + 2\n",
    "print(num1)\n",
    "\n",
    "# -=\n",
    "# *=\n",
    "# /=\n",
    "# //=\n",
    "# %= \n",
    "\n",
    "# increase number\n",
    "num1 = 0\n",
    "print(num1)\n",
    "num1+=1\n",
    "print(num1)\n",
    "num1+=1\n",
    "print(num1)"
   ]
  },
  {
   "cell_type": "code",
   "execution_count": 6,
   "id": "23937b29",
   "metadata": {},
   "outputs": [
    {
     "name": "stdout",
     "output_type": "stream",
     "text": [
      "10\n",
      "9\n",
      "4\n"
     ]
    }
   ],
   "source": [
    "# decrease number\n",
    "num1 = 10\n",
    "print(num1)\n",
    "num1-=1\n",
    "print(num1)\n",
    "num1-=5\n",
    "print(num1)"
   ]
  },
  {
   "cell_type": "code",
   "execution_count": 17,
   "id": "10074a92",
   "metadata": {},
   "outputs": [
    {
     "name": "stdout",
     "output_type": "stream",
     "text": [
      "Enter first no : 12\n",
      "Enter second no : 12\n",
      "Enter third no : 12\n"
     ]
    }
   ],
   "source": [
    "# Logical Operators\n",
    "    # Relational Operator - compare two values and return boolean result (==, !=, >, >=, <, <=)\n",
    "    # AND\n",
    "    # OR\n",
    "    # NOT - Reverse the result\n",
    "\n",
    "# AND\n",
    "num1 = int(input(\"Enter first no : \"))\n",
    "num2 = int(input(\"Enter second no : \"))\n",
    "num3 = int(input(\"Enter third no : \"))\n",
    "if num1>num2 or num1>num3:\n",
    "    print(num1)\n",
    "if num2>num1 or num2>num3:\n",
    "    print(num2)\n",
    "if num3>num1 or num3>num2:\n",
    "    print(num3)"
   ]
  },
  {
   "cell_type": "code",
   "execution_count": 1,
   "id": "d5788607",
   "metadata": {},
   "outputs": [
    {
     "name": "stdout",
     "output_type": "stream",
     "text": [
      "Enter first no : 45\n",
      "Enter second no : 54\n",
      "Enter third no : 32\n",
      "FAIL\n"
     ]
    }
   ],
   "source": [
    "# OR\n",
    "num1 = int(input(\"Enter first no : \"))\n",
    "num2 = int(input(\"Enter second no : \"))\n",
    "num3 = int(input(\"Enter third no : \"))\n",
    "PM = 40\n",
    "if num1<PM or num2<PM or num3<PM:\n",
    "    print(\"FAIL\")\n",
    "else:\n",
    "    print(\"PASS\")"
   ]
  },
  {
   "cell_type": "code",
   "execution_count": 3,
   "id": "530990b5",
   "metadata": {},
   "outputs": [
    {
     "name": "stdout",
     "output_type": "stream",
     "text": [
      "False\n",
      "True\n"
     ]
    }
   ],
   "source": [
    "# NOT\n",
    "result = True\n",
    "print(not result)\n",
    "\n",
    "result= False\n",
    "print(not result)"
   ]
  },
  {
   "cell_type": "code",
   "execution_count": 8,
   "id": "53cd2b32",
   "metadata": {},
   "outputs": [
    {
     "name": "stdout",
     "output_type": "stream",
     "text": [
      "True\n",
      "True\n"
     ]
    }
   ],
   "source": [
    "# Identity (is, is not)\n",
    "num1 = 5\n",
    "num2 = 5\n",
    "print(num1 is num2)\n",
    "\n",
    "\n",
    "num1 = 5\n",
    "num2 = 6\n",
    "print(num1 is not num2)"
   ]
  },
  {
   "cell_type": "code",
   "execution_count": 10,
   "id": "ad821946",
   "metadata": {},
   "outputs": [
    {
     "name": "stdout",
     "output_type": "stream",
     "text": [
      "True\n",
      "False\n"
     ]
    }
   ],
   "source": [
    "# in/not in\n",
    "list1 = [5,6,7,8,9,0,3,2,3,5]\n",
    "print(5 in list1)\n",
    "\n",
    "list1 = [5,6,7,8,9,0,3,2,3,5]\n",
    "print(5 not in list1)"
   ]
  },
  {
   "cell_type": "code",
   "execution_count": 11,
   "id": "697890de",
   "metadata": {},
   "outputs": [
    {
     "data": {
      "text/plain": [
       "8.0"
      ]
     },
     "execution_count": 11,
     "metadata": {},
     "output_type": "execute_result"
    }
   ],
   "source": [
    "# . (dot)\n",
    "import math\n",
    "math.pow(2,3)"
   ]
  },
  {
   "cell_type": "code",
   "execution_count": null,
   "id": "3d41eade",
   "metadata": {},
   "outputs": [],
   "source": [
    "# Other Operators\n",
    "    # ()\n",
    "    # {}\n",
    "    # []\n",
    "    # #\n",
    "    # ' ', \" \", \"\"\" \"\"\""
   ]
  },
  {
   "cell_type": "code",
   "execution_count": null,
   "id": "51b95d40",
   "metadata": {},
   "outputs": [],
   "source": [
    "# Operator Precedence and Associativity in Python?"
   ]
  }
 ],
 "metadata": {
  "kernelspec": {
   "display_name": "Python 3 (ipykernel)",
   "language": "python",
   "name": "python3"
  },
  "language_info": {
   "codemirror_mode": {
    "name": "ipython",
    "version": 3
   },
   "file_extension": ".py",
   "mimetype": "text/x-python",
   "name": "python",
   "nbconvert_exporter": "python",
   "pygments_lexer": "ipython3",
   "version": "3.10.0"
  }
 },
 "nbformat": 4,
 "nbformat_minor": 5
}
