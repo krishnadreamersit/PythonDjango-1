{
 "cells": [
  {
   "cell_type": "markdown",
   "id": "ab3cdf3c",
   "metadata": {},
   "source": [
    "# Data Types"
   ]
  },
  {
   "cell_type": "code",
   "execution_count": 1,
   "id": "3da46995",
   "metadata": {},
   "outputs": [],
   "source": [
    "# Values\n",
    "    # None - None\n",
    "    # bool - True/False\n",
    "    # int - 123\n",
    "    # float - 123.456\n",
    "    # complex - 123+456J\n",
    "    \n",
    "    # str - '*' | \"*\" | \"\"\"*\"\"\"\n",
    "    # list - [value1, value2, ...., valueN]\n",
    "    # tuple\n",
    "    # set\n",
    "    # dictionary\n",
    "    # array\n",
    "    # class - user defined type"
   ]
  },
  {
   "cell_type": "markdown",
   "id": "f1a6af1a",
   "metadata": {},
   "source": [
    "# Variables"
   ]
  },
  {
   "cell_type": "code",
   "execution_count": 19,
   "id": "19416b21",
   "metadata": {},
   "outputs": [],
   "source": [
    "import sys"
   ]
  },
  {
   "cell_type": "markdown",
   "id": "76a11bf5",
   "metadata": {},
   "source": [
    "## None"
   ]
  },
  {
   "cell_type": "code",
   "execution_count": 20,
   "id": "cee81fa1",
   "metadata": {},
   "outputs": [
    {
     "name": "stdout",
     "output_type": "stream",
     "text": [
      "None\n",
      "<class 'NoneType'>\n",
      "16\n",
      "140707634317304\n"
     ]
    }
   ],
   "source": [
    "var1 = None # decalre and initialize varaible with value\n",
    "# momory location\n",
    "# value (store, retrieve, update), delete varibale\n",
    "\n",
    "print(var1) # print value\n",
    "print(type(var1)) # print type of value\n",
    "print(sys.getsizeof(var1)) # memory allocated to var1 ?\n",
    "print(id(var1)) # location of memory"
   ]
  },
  {
   "cell_type": "markdown",
   "id": "695172ea",
   "metadata": {},
   "source": [
    "## bool"
   ]
  },
  {
   "cell_type": "code",
   "execution_count": 28,
   "id": "1766d069",
   "metadata": {},
   "outputs": [
    {
     "name": "stdout",
     "output_type": "stream",
     "text": [
      "True\n",
      "<class 'bool'>\n",
      "140707924982632\n",
      "28\n",
      "['In', 'Out', '_', '__', '___', '__builtin__', '__builtins__', '__doc__', '__loader__', '__name__', '__package__', '__spec__', '_dh', '_i', '_i1', '_i10', '_i11', '_i12', '_i13', '_i14', '_i15', '_i16', '_i17', '_i18', '_i19', '_i2', '_i20', '_i21', '_i22', '_i23', '_i24', '_i25', '_i26', '_i27', '_i28', '_i3', '_i4', '_i5', '_i6', '_i7', '_i8', '_i9', '_ih', '_ii', '_iii', '_oh', 'exit', 'get_ipython', 'quit', 'result', 'result2', 'str1', 'sys']\n"
     ]
    }
   ],
   "source": [
    "import sys\n",
    "result  = True # False\n",
    "print(result)\n",
    "print(type(result))\n",
    "print(id(result))\n",
    "print(sys.getsizeof(result))\n",
    "print(dir())"
   ]
  },
  {
   "cell_type": "markdown",
   "id": "6b9492a9",
   "metadata": {},
   "source": [
    "## int"
   ]
  },
  {
   "cell_type": "code",
   "execution_count": 17,
   "id": "316a1c83",
   "metadata": {},
   "outputs": [
    {
     "name": "stdout",
     "output_type": "stream",
     "text": [
      "1234\n",
      "<class 'int'>\n",
      "28\n",
      "2248290329488\n"
     ]
    }
   ],
   "source": [
    "var1 = 1234 # reallocate the variable memory and assign value\n",
    "print(var1) # print value\n",
    "print(type(var1)) # print type of value\n",
    "print(sys.getsizeof(var1)) # memory allocated to var1 ?\n",
    "print(id(var1)) # location of memory"
   ]
  },
  {
   "cell_type": "markdown",
   "id": "b93a3f9f",
   "metadata": {},
   "source": [
    "## float"
   ]
  },
  {
   "cell_type": "code",
   "execution_count": 18,
   "id": "173aa64f",
   "metadata": {},
   "outputs": [
    {
     "name": "stdout",
     "output_type": "stream",
     "text": [
      "1234.56789\n",
      "<class 'float'>\n",
      "24\n",
      "2248290331216\n"
     ]
    }
   ],
   "source": [
    "var1 = 1234.56789 # reallocate the variable memory and assign value\n",
    "print(var1) # print value\n",
    "print(type(var1)) # print type of value\n",
    "print(sys.getsizeof(var1)) # memory allocated to var1 ?\n",
    "print(id(var1)) # location of memory"
   ]
  },
  {
   "cell_type": "markdown",
   "id": "77ca3ae7",
   "metadata": {},
   "source": [
    "## complex  [ real-life applicatio? ]"
   ]
  },
  {
   "cell_type": "code",
   "execution_count": 22,
   "id": "9a4a07b4",
   "metadata": {},
   "outputs": [
    {
     "name": "stdout",
     "output_type": "stream",
     "text": [
      "(123456+789j)\n",
      "<class 'complex'>\n",
      "32\n",
      "2248290330416\n"
     ]
    }
   ],
   "source": [
    "var1 = 123456+789j\n",
    "# var1 = 123456+789J # decalre and initialize varaible with value\n",
    "# momory location\n",
    "# value (store, retrieve, update), delete varibale\n",
    "\n",
    "print(var1) # print value\n",
    "print(type(var1)) # print type of value\n",
    "print(sys.getsizeof(var1)) # memory allocated to var1 ?\n",
    "print(id(var1)) # location of memory"
   ]
  },
  {
   "cell_type": "markdown",
   "id": "93f518b4",
   "metadata": {},
   "source": [
    "## str - String"
   ]
  },
  {
   "cell_type": "code",
   "execution_count": 63,
   "id": "96525efa",
   "metadata": {},
   "outputs": [
    {
     "name": "stdout",
     "output_type": "stream",
     "text": [
      "just use the sys.getsizeof function defined in the sys module.,sys.getsizeof(object[, default]):,You can make use of getSizeof() as mentioned below to determine the size of an object,Use following function to get actual size of a python object. write a Python program to get the size of an object in bytes.,Python Pandas exercises,Python Itertools exercises,Python Numpy exercises\n",
      "<class 'str'>\n",
      "429\n",
      "2248326185872\n",
      "380\n",
      "Just use the sys.getsizeof function defined in the sys module.,sys.getsizeof(object[, default]):,you can make use of getsizeof() as mentioned below to determine the size of an object,use following function to get actual size of a python object. write a python program to get the size of an object in bytes.,python pandas exercises,python itertools exercises,python numpy exercises\n",
      "\n",
      "False\n",
      "\n",
      "True\n",
      "nepal nepal\n",
      "***KTM****\n",
      "\n",
      "KTM*******\n",
      "\n",
      "*******KTM\n",
      "\n",
      "just use the sys.getsizeof function defined in the sys module.,sys.getsizeof(object[, default]):,You can make use of getSizeof() as mentioned below to determine the size of an object,Use following function to get actual size of a python object. write a Python program to get the size of an object in bytes.,Python Pandas exercises,Python Itertools exercises,Python Numpy exercises\n",
      "2\n",
      "\n",
      "True\n",
      "\n"
     ]
    }
   ],
   "source": [
    "var1 = \"just use the sys.getsizeof function defined in the sys module.,sys.getsizeof(object[, default]):,You can make use of getSizeof() as mentioned below to determine the size of an object,Use following function to get actual size of a python object. write a Python program to get the size of an object in bytes.,Python Pandas exercises,Python Itertools exercises,Python Numpy exercises\"\n",
    "\n",
    "print(var1) # print value\n",
    "print(type(var1)) # print type of value\n",
    "print(sys.getsizeof(var1)) # memory allocated to var1 ?\n",
    "print(id(var1)) # location of memory\n",
    "print(len(var1)) # no of characters\n",
    "\n",
    "# functions\n",
    "var1 = var1.capitalize() # First letter of paragraph convert to uppercase\n",
    "print(var1)\n",
    "\n",
    "# casefold(self, /)\n",
    "var1 = \"Nepal\"\n",
    "var2 = \"nePAl\"\n",
    "print()\n",
    "print(var1 == var2) # case sensitive\n",
    "\n",
    "var3 = var1.casefold() # convert to lower case\n",
    "var4 = var2.casefold() # convert to lower case\n",
    "print()\n",
    "print(var3 == var4) # case insensitive\n",
    "print(var3, var4)\n",
    "\n",
    "# center(self, width, fillchar=' ', /)\n",
    "var5 = \"KTM\"\n",
    "var5 =  var5.center(10, '*')\n",
    "print(var5)\n",
    "print()\n",
    "\n",
    "# ljust(self, width, fillchar=' ', /)\n",
    "var5 = \"KTM\"\n",
    "var5 =  var5.ljust(10, '*')\n",
    "print(var5)\n",
    "print()\n",
    "\n",
    "# rjust(self, width, fillchar=' ', /)\n",
    "var5 = \"KTM\"\n",
    "var5 =  var5.rjust(10, '*')\n",
    "print(var5)\n",
    "print()\n",
    "\n",
    "# S.count(sub[, start[, end]]) -> int\n",
    "var1 = 'just use the sys.getsizeof function defined in the sys module.,sys.getsizeof(object[, default]):,You can make use of getSizeof() as mentioned below to determine the size of an object,Use following function to get actual size of a python object. write a Python program to get the size of an object in bytes.,Python Pandas exercises,Python Itertools exercises,Python Numpy exercises'\n",
    "# result = var1.count(' in ')\n",
    "result = var1.count(' in ', 0, len(var1))\n",
    "print(var1)\n",
    "print(result)\n",
    "print()\n",
    "\n",
    "# S.endswith(suffix[, start[, end]]) -> bool\n",
    "# S.startswith(prefix[, start[, end]]) -> bool\n",
    "\n",
    "var1 = 'just use the sys.getsizeof function defined;'\n",
    "result = var1.endswith(';')\n",
    "print(result)\n",
    "print()\n"
   ]
  },
  {
   "cell_type": "markdown",
   "id": "bf69d395",
   "metadata": {},
   "source": [
    "###  expandtabs(self, /, tabsize=8)\n",
    "#### Return a copy where all tab characters are expanded using spaces."
   ]
  },
  {
   "cell_type": "code",
   "execution_count": 11,
   "id": "5603f9e8",
   "metadata": {},
   "outputs": [
    {
     "name": "stdout",
     "output_type": "stream",
     "text": [
      "SN   NAME ADDRESS\n"
     ]
    }
   ],
   "source": [
    "str1 = \"SN\tNAME\tADDRESS\"\n",
    "str1 = str1.expandtabs(tabsize=5)\n",
    "print(str1)"
   ]
  },
  {
   "cell_type": "markdown",
   "id": "d5f312e8",
   "metadata": {},
   "source": [
    "### S.find(sub[, start[, end]]) -> int"
   ]
  },
  {
   "cell_type": "code",
   "execution_count": 28,
   "id": "c770c7bd",
   "metadata": {},
   "outputs": [
    {
     "name": "stdout",
     "output_type": "stream",
     "text": [
      "Str1 :  just use the sys.getsizeof function defined in the sys module.,sys.getsizeof(object[, default]):,You can make use of getSizeof() as mentioned below to determine the size of an object,Use following function to get actual size of a python object. write a Python program to get the size of an object in bytes.,Python Pandas exercises,Python Itertools exercises,Python Numpy exercises\n",
      "Str2 :  the\n",
      "Lengthh of Str1 : 380\n",
      "Lengthh of Str2 : 3\n",
      "Count of Str2 :  4\n",
      "First position  9\n",
      "Second position  47\n",
      "Third position  161\n",
      "Fourth position  275\n"
     ]
    }
   ],
   "source": [
    "str1 = \"just use the sys.getsizeof function defined in the sys module.,sys.getsizeof(object[, default]):,You can make use of getSizeof() as mentioned below to determine the size of an object,Use following function to get actual size of a python object. write a Python program to get the size of an object in bytes.,Python Pandas exercises,Python Itertools exercises,Python Numpy exercises\"\n",
    "str2 = \"the\"\n",
    "print(\"Str1 : \", str1)\n",
    "print(\"Str2 : \", str2)\n",
    "print(\"Lengthh of Str1 :\", len(str1))\n",
    "print(\"Lengthh of Str2 :\", len(str2))\n",
    "result = str1.count(str2) # how many\n",
    "print(\"Count of Str2 : \", result)\n",
    "\n",
    "first_position = str1.find(str2)# index of first position\n",
    "print(\"First position \", first_position)\n",
    "\n",
    "second_position = str1.find(str2, first_position+len(str2))\n",
    "print(\"Second position \",second_position)\n",
    "\n",
    "third_position = str1.find(str2, second_position+len(str2))\n",
    "print(\"Third position \",third_position)\n",
    "\n",
    "fourth_position = str1.find(str2, third_position+len(str2))\n",
    "print(\"Fourth position \",fourth_position)\n"
   ]
  },
  {
   "cell_type": "code",
   "execution_count": 34,
   "id": "b25fb7b1",
   "metadata": {},
   "outputs": [
    {
     "name": "stdout",
     "output_type": "stream",
     "text": [
      "1\n",
      "2\n",
      "3\n",
      "4\n"
     ]
    }
   ],
   "source": [
    "start = 1\n",
    "stop = 4\n",
    "while(start<=stop):\n",
    "    print(start)\n",
    "    start+=1"
   ]
  },
  {
   "cell_type": "markdown",
   "id": "0be33fc8",
   "metadata": {},
   "source": [
    "### S.index(sub[, start[, end]]) -> int"
   ]
  },
  {
   "cell_type": "code",
   "execution_count": 46,
   "id": "403755c0",
   "metadata": {},
   "outputs": [
    {
     "ename": "ValueError",
     "evalue": "substring not found",
     "output_type": "error",
     "traceback": [
      "\u001b[1;31m---------------------------------------------------------------------------\u001b[0m",
      "\u001b[1;31mValueError\u001b[0m                                Traceback (most recent call last)",
      "\u001b[1;32mC:\\Users\\ADMINI~1\\AppData\\Local\\Temp/ipykernel_14608/1156621158.py\u001b[0m in \u001b[0;36m<module>\u001b[1;34m\u001b[0m\n\u001b[0;32m      2\u001b[0m \u001b[0mstr2\u001b[0m \u001b[1;33m=\u001b[0m \u001b[1;34m\"these\"\u001b[0m\u001b[1;33m\u001b[0m\u001b[1;33m\u001b[0m\u001b[0m\n\u001b[0;32m      3\u001b[0m \u001b[1;33m\u001b[0m\u001b[0m\n\u001b[1;32m----> 4\u001b[1;33m \u001b[0mfirst_position\u001b[0m \u001b[1;33m=\u001b[0m \u001b[0mstr1\u001b[0m\u001b[1;33m.\u001b[0m\u001b[0mindex\u001b[0m\u001b[1;33m(\u001b[0m\u001b[0mstr2\u001b[0m\u001b[1;33m,\u001b[0m \u001b[1;36m0\u001b[0m\u001b[1;33m,\u001b[0m \u001b[0mlen\u001b[0m\u001b[1;33m(\u001b[0m\u001b[0mstr1\u001b[0m\u001b[1;33m)\u001b[0m\u001b[1;33m)\u001b[0m\u001b[1;33m\u001b[0m\u001b[1;33m\u001b[0m\u001b[0m\n\u001b[0m\u001b[0;32m      5\u001b[0m \u001b[0mprint\u001b[0m\u001b[1;33m(\u001b[0m\u001b[0mfirst_position\u001b[0m\u001b[1;33m)\u001b[0m\u001b[1;33m\u001b[0m\u001b[1;33m\u001b[0m\u001b[0m\n",
      "\u001b[1;31mValueError\u001b[0m: substring not found"
     ]
    }
   ],
   "source": [
    "str1 = \"just use the sys.getsizeof function defined in the sys module.,sys.getsizeof(object[, default]):,You can make use of getSizeof() as mentioned below to determine the size of an object,Use following function to get actual size of a python object. write a Python program to get the size of an object in bytes.,Python Pandas exercises,Python Itertools exercises,Python Numpy exercises\"\n",
    "str2 = \"these\"\n",
    "\n",
    "first_position = str1.index(str2, 0, len(str1))\n",
    "print(first_position)"
   ]
  },
  {
   "cell_type": "markdown",
   "id": "f2303085",
   "metadata": {},
   "source": [
    "### S.format(*args, **kwargs) -> str\n"
   ]
  },
  {
   "cell_type": "code",
   "execution_count": 41,
   "id": "76e1f090",
   "metadata": {},
   "outputs": [
    {
     "name": "stdout",
     "output_type": "stream",
     "text": [
      "num1 :  19\n",
      "num2 :  32\n",
      "num3 :  51\n",
      "\n",
      "num1 : 19\n",
      "num1 : 19, num2 : 32, num3 : 51\n"
     ]
    }
   ],
   "source": [
    "num1 = 19\n",
    "num2 = 32\n",
    "num3 = num1+num2\n",
    "print(\"num1 : \", num1)\n",
    "print(\"num2 : \", num2)\n",
    "print(\"num3 : \", num3)\n",
    "print()\n",
    "\n",
    "print(\"num1 : {0}\".format(num1))\n",
    "\n",
    "print(\"num1 : {0}, num2 : {1}, num3 : {2}\".format(num1, num2, num3))"
   ]
  },
  {
   "cell_type": "markdown",
   "id": "424f5ffe",
   "metadata": {},
   "source": [
    "### isalnum(self, /)\n",
    "### isalpha(self, /)\n",
    "### isascii(self, /)\n",
    "### isdecimal(self, /)\n",
    "### isdigit(self, /)\n",
    "### isidentifier(self, /)\n",
    "### islower(self, /)\n",
    "### isnumeric(self, /)\n",
    "### isprintable(self, /)\n",
    "### isspace(self, /)\n",
    "### istitle(self, /)\n",
    "### isupper(self, /)"
   ]
  },
  {
   "cell_type": "code",
   "execution_count": 55,
   "id": "ae925a2a",
   "metadata": {},
   "outputs": [
    {
     "name": "stdout",
     "output_type": "stream",
     "text": [
      "True\n",
      "False\n",
      "True\n",
      "False\n"
     ]
    }
   ],
   "source": [
    "str1 = \"asgag32535\"\n",
    "result = str1.isalnum()\n",
    "print(result)\n",
    "\n",
    "result = str1.isalpha()\n",
    "print(result)\n",
    "\n",
    "result = str1.isascii()\n",
    "print(result)\n",
    "\n",
    "result = str1.isdecimal()\n",
    "print(result)\n"
   ]
  },
  {
   "cell_type": "markdown",
   "id": "60fa64f8",
   "metadata": {},
   "source": [
    "### join(self, iterable, /)"
   ]
  },
  {
   "cell_type": "code",
   "execution_count": 64,
   "id": "bfe6cb14",
   "metadata": {},
   "outputs": [
    {
     "name": "stdout",
     "output_type": "stream",
     "text": [
      "Broadway InfoSys Nepal\n"
     ]
    }
   ],
   "source": [
    "str1 = \"Broadway\"\n",
    "str2 = \"InfoSys\"\n",
    "str3 = \"Nepal\"\n",
    "str4 = ' '.join([str1, str2, str3])\n",
    "print(str4)"
   ]
  },
  {
   "cell_type": "markdown",
   "id": "9fe6aab3",
   "metadata": {},
   "source": [
    "### lower(self, /)"
   ]
  },
  {
   "cell_type": "code",
   "execution_count": 65,
   "id": "e9d999e6",
   "metadata": {},
   "outputs": [
    {
     "name": "stdout",
     "output_type": "stream",
     "text": [
      "nepal\n"
     ]
    }
   ],
   "source": [
    "str1 =\"NEPAL\"\n",
    "str2 = str1.lower()\n",
    "print(str2)"
   ]
  },
  {
   "cell_type": "markdown",
   "id": "5117d989",
   "metadata": {},
   "source": [
    "### lstrip(self, chars=None, /)\n",
    "### rstrip(self, chars=None, /)\n",
    "### strip(self, chars=None, /)"
   ]
  },
  {
   "cell_type": "code",
   "execution_count": 70,
   "id": "f8fe5a96",
   "metadata": {},
   "outputs": [
    {
     "name": "stdout",
     "output_type": "stream",
     "text": [
      " Broadway InfoSys Nepal \n",
      "Broadway InfoSys Nepal \n",
      " Broadway InfoSys Nepal\n",
      "Broadway InfoSys Nepal\n"
     ]
    }
   ],
   "source": [
    "str1 = \" Broadway InfoSys Nepal \"\n",
    "print(str1)\n",
    "str2 = str1.lstrip()\n",
    "print(str2)\n",
    "str3 = str1.rstrip()\n",
    "print(str3)\n",
    "str4 = str1.strip()\n",
    "print(str4)"
   ]
  },
  {
   "cell_type": "markdown",
   "id": "9b68583a",
   "metadata": {},
   "source": [
    "### partition(self, sep, /)"
   ]
  },
  {
   "cell_type": "code",
   "execution_count": 74,
   "id": "4fb8b2c0",
   "metadata": {},
   "outputs": [
    {
     "name": "stdout",
     "output_type": "stream",
     "text": [
      "Broadway InfoSys Nepal\n",
      "('Broadway', ' ', 'InfoSys Nepal')\n",
      "('InfoSys', ' ', 'Nepal')\n"
     ]
    }
   ],
   "source": [
    "str1 = \"Broadway InfoSys Nepal\"\n",
    "print(str1)\n",
    "str2 = str1.partition(\" \")\n",
    "print(str2)\n",
    "str3 = str2[2].partition(\" \")\n",
    "print(str3)"
   ]
  },
  {
   "cell_type": "markdown",
   "id": "38892c2b",
   "metadata": {},
   "source": [
    "### removeprefix(self, prefix, /)\n",
    "### removesuffix(self, suffix, /)"
   ]
  },
  {
   "cell_type": "code",
   "execution_count": 78,
   "id": "e01dea87",
   "metadata": {},
   "outputs": [
    {
     "name": "stdout",
     "output_type": "stream",
     "text": [
      " InfoSys Nepal\n",
      "Broadway InfoSys \n"
     ]
    }
   ],
   "source": [
    "str1 = \"Broadway InfoSys Nepal\"\n",
    "str2 = str1.removeprefix(\"Broadway\")\n",
    "print(str2)\n",
    "\n",
    "str1 = \"Broadway InfoSys Nepal\"\n",
    "str2 = str1.removesuffix(\"Nepal\")\n",
    "print(str2)"
   ]
  },
  {
   "cell_type": "markdown",
   "id": "469c75cc",
   "metadata": {},
   "source": [
    "#### replace(self, old, new, count=-1, /)"
   ]
  },
  {
   "cell_type": "code",
   "execution_count": 3,
   "id": "6cef9068",
   "metadata": {},
   "outputs": [
    {
     "name": "stdout",
     "output_type": "stream",
     "text": [
      "Broadway InfoSys Nepal\n",
      "Broadway InfoSys NepaL\n"
     ]
    }
   ],
   "source": [
    "str1 = \"Broadway InfoSys Nepal\"\n",
    "print(str1)\n",
    "str1 = str1.replace('l', 'L')\n",
    "print(str1)"
   ]
  },
  {
   "cell_type": "markdown",
   "id": "063a0ff0",
   "metadata": {},
   "source": [
    "#### split(self, /, sep=None, maxsplit=-1)"
   ]
  },
  {
   "cell_type": "code",
   "execution_count": 4,
   "id": "bf2ca507",
   "metadata": {},
   "outputs": [
    {
     "name": "stdout",
     "output_type": "stream",
     "text": [
      "['Broadway', 'InfoSys', 'Nepal']\n"
     ]
    }
   ],
   "source": [
    "str1 =\"Broadway InfoSys Nepal\"\n",
    "result = str1.split(' ')\n",
    "print(result)"
   ]
  },
  {
   "cell_type": "markdown",
   "id": "68e86aa7",
   "metadata": {},
   "source": [
    "#### splitlines(self, /, keepends=False)"
   ]
  },
  {
   "cell_type": "code",
   "execution_count": 14,
   "id": "addfd7df",
   "metadata": {},
   "outputs": [
    {
     "name": "stdout",
     "output_type": "stream",
     "text": [
      "Return a list of the lines in the string, breaking at line boundaries.\n",
      "Line breaks are not included in the resulting list unless keepends is given and\n",
      "['Return a list of the lines in the string, breaking at line boundaries.', 'Line breaks are not included in the resulting list unless keepends is given and']\n",
      "\n",
      "['Return', 'a', 'list', 'of', 'the', 'lines', 'in', 'the', 'string,', 'breaking', 'at', 'line', 'boundaries.\\nLine', 'breaks', 'are', 'not', 'included', 'in', 'the', 'resulting', 'list', 'unless', 'keepends', 'is', 'given', 'and']\n"
     ]
    }
   ],
   "source": [
    "str1 = \"\"\"Return a list of the lines in the string, breaking at line boundaries.\n",
    "Line breaks are not included in the resulting list unless keepends is given and\"\"\"\n",
    "\n",
    "print(str1)\n",
    "result = str1.splitlines()\n",
    "print(result)\n",
    "print()\n",
    "result2 = str1.split(' ')\n",
    "print(result2)"
   ]
  },
  {
   "cell_type": "markdown",
   "id": "a721619b",
   "metadata": {},
   "source": [
    "#### swapcase(self, /)"
   ]
  },
  {
   "cell_type": "code",
   "execution_count": 16,
   "id": "36d9c9ca",
   "metadata": {},
   "outputs": [
    {
     "name": "stdout",
     "output_type": "stream",
     "text": [
      "Broadway InfoSys Nepal\n",
      "bROADWAY iNFOsYS nEPAL\n"
     ]
    }
   ],
   "source": [
    "str1 = \"Broadway InfoSys Nepal\"\n",
    "print(str1)\n",
    "str1 = str1.swapcase()\n",
    "print(str1)"
   ]
  },
  {
   "cell_type": "markdown",
   "id": "1bb0bd58",
   "metadata": {},
   "source": [
    "####  title(self, /)"
   ]
  },
  {
   "cell_type": "code",
   "execution_count": 19,
   "id": "c2146b0f",
   "metadata": {},
   "outputs": [
    {
     "name": "stdout",
     "output_type": "stream",
     "text": [
      "broadwaY infosyS nepaL\n",
      "Broadway Infosys Nepal\n"
     ]
    }
   ],
   "source": [
    "str1 = \"broadwaY infosyS nepaL\"\n",
    "print(str1)\n",
    "str1 = str1.title()\n",
    "print(str1)"
   ]
  },
  {
   "cell_type": "markdown",
   "id": "b8887a4a",
   "metadata": {},
   "source": [
    "##### upper(self, /)"
   ]
  },
  {
   "cell_type": "code",
   "execution_count": 20,
   "id": "49b539de",
   "metadata": {},
   "outputs": [
    {
     "name": "stdout",
     "output_type": "stream",
     "text": [
      "BROADWAY INFOSYS NEPAL\n"
     ]
    }
   ],
   "source": [
    "\n",
    "str1 = \"broadway infosys nepal\"\n",
    "str1 = str1.upper()\n",
    "print(str1)"
   ]
  },
  {
   "cell_type": "markdown",
   "id": "0b0b37f5",
   "metadata": {},
   "source": [
    "#### zfill(self, width, /)"
   ]
  },
  {
   "cell_type": "code",
   "execution_count": 23,
   "id": "b381bcd1",
   "metadata": {},
   "outputs": [
    {
     "name": "stdout",
     "output_type": "stream",
     "text": [
      "000000000000000Nepal\n"
     ]
    }
   ],
   "source": [
    "str1 = \"Nepal\"\n",
    "str1 = str1.zfill(20)\n",
    "print(str1)"
   ]
  },
  {
   "cell_type": "markdown",
   "id": "77ee004d",
   "metadata": {},
   "source": [
    "## list - [value1, value2, ...., valueN ]"
   ]
  },
  {
   "cell_type": "code",
   "execution_count": 40,
   "id": "4f6d36eb",
   "metadata": {},
   "outputs": [
    {
     "name": "stdout",
     "output_type": "stream",
     "text": [
      "[1, 234.567, (789+123j), True, False, 'KTM']\n",
      "<class 'list'>\n",
      "152\n",
      "1424574453504\n",
      "6\n",
      "1\n",
      "KTM\n",
      "[11, 234.567, (789+123j), True, False, 'KAthmandu']\n"
     ]
    }
   ],
   "source": [
    "import sys\n",
    "\n",
    "list1 = [1, 234.567, 789+123J, True, False, \"KTM\"]\n",
    "print(list1)\n",
    "print(type(list1))\n",
    "print(sys.getsizeof(list1))\n",
    "print(id(list1))\n",
    "print(len(list1))\n",
    "\n",
    "# access value\n",
    "print(list1[0])\n",
    "print(list1[5])\n",
    "\n",
    "# chnage value\n",
    "list1[0]=11\n",
    "list1[5] = \"KAthmandu\"\n",
    "\n",
    "print(list1)"
   ]
  },
  {
   "cell_type": "markdown",
   "id": "31b39fc5",
   "metadata": {},
   "source": [
    "## tuple (value1, value2, ...., valueN)"
   ]
  },
  {
   "cell_type": "code",
   "execution_count": 44,
   "id": "455d0d8b",
   "metadata": {},
   "outputs": [
    {
     "name": "stdout",
     "output_type": "stream",
     "text": [
      "(1, 2, 3, 4, 5)\n",
      "<class 'tuple'>\n",
      "1424577467216\n",
      "80\n",
      "1\n",
      "5\n"
     ]
    }
   ],
   "source": [
    "import sys\n",
    "\n",
    "tup1 = (1, 2, 3, 4, 5)\n",
    "print(tup1)\n",
    "print(type(tup1))\n",
    "print(id(tup1))\n",
    "print(sys.getsizeof(tup1))\n",
    "\n",
    "print(tup1[0])\n",
    "print(tup1[4])\n",
    "\n",
    "# tup1[0]=100 # tuple is read only\n"
   ]
  },
  {
   "cell_type": "code",
   "execution_count": 45,
   "id": "adfa92e0",
   "metadata": {},
   "outputs": [],
   "source": [
    "# Conversion list to tuple or tuple to list"
   ]
  },
  {
   "cell_type": "code",
   "execution_count": 49,
   "id": "8c835042",
   "metadata": {},
   "outputs": [
    {
     "name": "stdout",
     "output_type": "stream",
     "text": [
      "[1, 2.34, 'KTM']\n",
      "(1, 2.34, 'KTM')\n",
      "\n",
      "(4, 5, 6, 7)\n",
      "[4, 5, 6, 7]\n"
     ]
    }
   ],
   "source": [
    "list1 = [1, 2.34, 'KTM']\n",
    "tup1 = tuple(list1) # iist to tuple\n",
    "print(list1)\n",
    "print(tup1)\n",
    "print()\n",
    "\n",
    "tup1 = (4, 5, 6, 7)\n",
    "list1 = list(tup1)\n",
    "print(tup1)\n",
    "print(list1)"
   ]
  },
  {
   "cell_type": "markdown",
   "id": "2069147f",
   "metadata": {},
   "source": [
    "## set {value1, value2, ..., valueN}"
   ]
  },
  {
   "cell_type": "code",
   "execution_count": 62,
   "id": "d26db5a1",
   "metadata": {},
   "outputs": [
    {
     "name": "stdout",
     "output_type": "stream",
     "text": [
      "{1, 2, 3, 4, 5, 6, 7}\n",
      "<class 'set'>\n",
      "472\n",
      "1424575289536\n",
      "7\n",
      "7\n",
      "1\n",
      "28\n"
     ]
    }
   ],
   "source": [
    "set1 = {1, 3, 4, 5, 6, 7, 2}\n",
    "print(set1)\n",
    "print(type(set1))\n",
    "print(sys.getsizeof(set1))\n",
    "print(id(set1))\n",
    "print(len(set1))\n",
    "print(max(set1))\n",
    "print(min(set1))\n",
    "print(sum(set1))\n",
    "\n",
    "# print(set1[0]) # cannt access value\n",
    "# set1[0]=9 # cannt change value"
   ]
  },
  {
   "cell_type": "markdown",
   "id": "ca120d1a",
   "metadata": {},
   "source": [
    "## dictionary {key:value, key:value, key:value}"
   ]
  },
  {
   "cell_type": "code",
   "execution_count": 69,
   "id": "74e7d7f4",
   "metadata": {},
   "outputs": [
    {
     "name": "stdout",
     "output_type": "stream",
     "text": [
      "{'id': 1, 'name': 'Raj Rai', 'address': 'KTM'}\n",
      "3\n",
      "dict_keys(['id', 'name', 'address'])\n",
      "dict_values([1, 'Raj Rai', 'KTM'])\n",
      "Raj Rai\n"
     ]
    }
   ],
   "source": [
    "dict1 = {'id':1, 'name':'Raj Rai', 'address':'KTM'}\n",
    "print(dict1)\n",
    "print(len(dict1))\n",
    "\n",
    "print(dict1.keys())\n",
    "print(dict1.values())\n",
    "\n",
    "print(dict1['name'])"
   ]
  },
  {
   "cell_type": "markdown",
   "id": "1dc80525",
   "metadata": {},
   "source": [
    "## array"
   ]
  },
  {
   "cell_type": "code",
   "execution_count": 84,
   "id": "0d20ad7f",
   "metadata": {},
   "outputs": [
    {
     "name": "stdout",
     "output_type": "stream",
     "text": [
      "array('i', [1, 2, 3, 4, 5])\n",
      "<class 'array.array'>\n",
      "5\n",
      "1\n",
      "array('i', [9, 2, 3, 4, 5])\n",
      "[9, 2, 3, 4, 5]\n"
     ]
    }
   ],
   "source": [
    "import array\n",
    "array1 = array.array('i', [1,2,3,4,5]) # i - integer, f-float, d-double\n",
    "print(array1)\n",
    "print(type(array1))\n",
    "print(len(array1))\n",
    "print(array1[0])\n",
    "array1[0]=9\n",
    "print(array1)\n",
    "\n",
    "list1 = list(array1)\n",
    "print(list1)\n"
   ]
  },
  {
   "cell_type": "markdown",
   "id": "86b49a5b",
   "metadata": {},
   "source": [
    "## class"
   ]
  },
  {
   "cell_type": "code",
   "execution_count": 85,
   "id": "e8109c35",
   "metadata": {},
   "outputs": [],
   "source": [
    "class C1:\n",
    "    pass"
   ]
  },
  {
   "cell_type": "code",
   "execution_count": 87,
   "id": "1fafaa62",
   "metadata": {
    "scrolled": true
   },
   "outputs": [
    {
     "name": "stdout",
     "output_type": "stream",
     "text": [
      "<class '__main__.C1'>\n"
     ]
    }
   ],
   "source": [
    "obj1 = C1()\n",
    "print(type(obj1))"
   ]
  },
  {
   "cell_type": "markdown",
   "id": "92f44313",
   "metadata": {},
   "source": [
    "## varaible delete"
   ]
  },
  {
   "cell_type": "code",
   "execution_count": 92,
   "id": "065baa6f",
   "metadata": {},
   "outputs": [
    {
     "name": "stdout",
     "output_type": "stream",
     "text": [
      "nepal\n",
      "KTM\n"
     ]
    },
    {
     "ename": "NameError",
     "evalue": "name 'var1' is not defined",
     "output_type": "error",
     "traceback": [
      "\u001b[1;31m---------------------------------------------------------------------------\u001b[0m",
      "\u001b[1;31mNameError\u001b[0m                                 Traceback (most recent call last)",
      "\u001b[1;32mC:\\Users\\ADMINI~1\\AppData\\Local\\Temp/ipykernel_2784/788040645.py\u001b[0m in \u001b[0;36m<module>\u001b[1;34m\u001b[0m\n\u001b[0;32m      4\u001b[0m \u001b[0mprint\u001b[0m\u001b[1;33m(\u001b[0m\u001b[0mvar1\u001b[0m\u001b[1;33m)\u001b[0m\u001b[1;33m\u001b[0m\u001b[1;33m\u001b[0m\u001b[0m\n\u001b[0;32m      5\u001b[0m \u001b[1;32mdel\u001b[0m \u001b[0mvar1\u001b[0m \u001b[1;31m# delete variable from memory\u001b[0m\u001b[1;33m\u001b[0m\u001b[1;33m\u001b[0m\u001b[0m\n\u001b[1;32m----> 6\u001b[1;33m \u001b[0mprint\u001b[0m\u001b[1;33m(\u001b[0m\u001b[0mvar1\u001b[0m\u001b[1;33m)\u001b[0m\u001b[1;33m\u001b[0m\u001b[1;33m\u001b[0m\u001b[0m\n\u001b[0m",
      "\u001b[1;31mNameError\u001b[0m: name 'var1' is not defined"
     ]
    }
   ],
   "source": [
    "var1 = 'nepal'\n",
    "print(var1)\n",
    "var1 = 'KTM'\n",
    "print(var1)\n",
    "del var1 # delete variable from memory\n",
    "print(var1)"
   ]
  },
  {
   "cell_type": "code",
   "execution_count": null,
   "id": "a18e6290",
   "metadata": {},
   "outputs": [],
   "source": []
  }
 ],
 "metadata": {
  "kernelspec": {
   "display_name": "Python 3 (ipykernel)",
   "language": "python",
   "name": "python3"
  },
  "language_info": {
   "codemirror_mode": {
    "name": "ipython",
    "version": 3
   },
   "file_extension": ".py",
   "mimetype": "text/x-python",
   "name": "python",
   "nbconvert_exporter": "python",
   "pygments_lexer": "ipython3",
   "version": "3.10.0"
  }
 },
 "nbformat": 4,
 "nbformat_minor": 5
}
