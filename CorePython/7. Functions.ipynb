{
 "cells": [
  {
   "cell_type": "code",
   "execution_count": 2,
   "id": "986b91af",
   "metadata": {},
   "outputs": [
    {
     "name": "stdout",
     "output_type": "stream",
     "text": [
      "Enter student id : 1\n",
      "Enter student name : Raj\n",
      "Enter student class : 2\n",
      "Enter student section : A\n",
      "Enter sub1 marks : 45\n",
      "Enter sub2 marks : 43\n",
      "Total :  88\n",
      "Percentage :  44.0\n",
      "Result :  None\n",
      "Grade :  Other\n"
     ]
    }
   ],
   "source": [
    "# Task -1 Result Processing System\n",
    "# Decalre\n",
    "sid=1\n",
    "name=None\n",
    "standard = None # class\n",
    "section = None\n",
    "sub1=0\n",
    "sub2=0\n",
    "PM = 40\n",
    "total = 0\n",
    "average = 0\n",
    "result=None\n",
    "grade=None\n",
    "\n",
    "# Input\n",
    "sid = input(\"Enter student id : \")\n",
    "name = input(\"Enter student name : \")\n",
    "standard = input(\"Enter student class : \")\n",
    "section = input(\"Enter student section : \")\n",
    "sub1 = int(input(\"Enter sub1 marks : \"))\n",
    "sub2 = int(input(\"Enter sub2 marks : \"))\n",
    "\n",
    "# Process\n",
    "total = sub1 + sub2\n",
    "average = total/2\n",
    "\n",
    "# result-1\n",
    "if(sub1>=PM):\n",
    "    if(sub2>=PM):\n",
    "        reuslt=\"PASS\"\n",
    "    else:\n",
    "        result=\"FAIL\"\n",
    "else:\n",
    "    result=\"FAIL\"\n",
    "\n",
    "# grade\n",
    "if((result=='PASS') and (average>=90)):\n",
    "    grade='A+'\n",
    "elif((result=='PASS') and (average>=75) and (average<90)):\n",
    "    grade='A'\n",
    "else:\n",
    "    grade='Other'\n",
    "    \n",
    "# Output\n",
    "print(\"Total : \", total)\n",
    "print(\"Percentage : \", average)\n",
    "print(\"Result : \", result)\n",
    "print(\"Grade : \", grade)"
   ]
  },
  {
   "cell_type": "code",
   "execution_count": 3,
   "id": "a4fc8462",
   "metadata": {},
   "outputs": [
    {
     "name": "stdout",
     "output_type": "stream",
     "text": [
      "Enter student id : 1\n",
      "Enter student name : Raj\n",
      "Enter student class : 2\n",
      "Enter student section : A\n",
      "Enter sub1 marks : 42\n",
      "Enter sub2 marks : 43\n",
      "Total :  85\n",
      "Percentage :  42.5\n",
      "Result :  FAIL\n",
      "Grade :  Other\n"
     ]
    }
   ],
   "source": [
    "# Task -2 Result Processing System\n",
    "# Decalre\n",
    "sid=1\n",
    "name=None\n",
    "standard = None # class\n",
    "section = None\n",
    "sub1=0\n",
    "sub2=0\n",
    "PM = 40\n",
    "total = 0\n",
    "average = 0\n",
    "result=None\n",
    "grade=None\n",
    "\n",
    "# Input\n",
    "sid = input(\"Enter student id : \")\n",
    "name = input(\"Enter student name : \")\n",
    "standard = input(\"Enter student class : \")\n",
    "section = input(\"Enter student section : \")\n",
    "sub1 = int(input(\"Enter sub1 marks : \"))\n",
    "sub2 = int(input(\"Enter sub2 marks : \"))\n",
    "\n",
    "# Process\n",
    "total = sub1 + sub2\n",
    "average = total/2\n",
    "\n",
    "# result-1\n",
    "result=\"FAIL\"\n",
    "if(sub1>=PM):\n",
    "    if(sub2>=PM):\n",
    "        reuslt=\"PASS\"\n",
    "\n",
    "# grade\n",
    "if((result=='PASS') and (average>=90)):\n",
    "    grade='A+'\n",
    "elif((result=='PASS') and (average>=75) and (average<90)):\n",
    "    grade='A'\n",
    "else:\n",
    "    grade='Other'\n",
    "    \n",
    "# Output\n",
    "print(\"Total : \", total)\n",
    "print(\"Percentage : \", average)\n",
    "print(\"Result : \", result)\n",
    "print(\"Grade : \", grade)"
   ]
  },
  {
   "cell_type": "code",
   "execution_count": 5,
   "id": "de8ad1c7",
   "metadata": {},
   "outputs": [
    {
     "name": "stdout",
     "output_type": "stream",
     "text": [
      "Enter student id : 1\n",
      "Enter student name : Raj\n",
      "Enter student class : 3\n",
      "Enter student section : B\n",
      "Enter sub1 marks : 56\n",
      "Enter sub2 marks : 76\n",
      "Total :  132\n",
      "Percentage :  66.0\n",
      "Result :  PASS\n",
      "Grade :  Other\n"
     ]
    }
   ],
   "source": [
    "# Task -3 Result Processing System\n",
    "# Decalre\n",
    "sid=1\n",
    "name=None\n",
    "standard = None # class\n",
    "section = None\n",
    "sub1=0\n",
    "sub2=0\n",
    "PM = 40\n",
    "total = 0\n",
    "average = 0\n",
    "result=None\n",
    "grade=None\n",
    "\n",
    "# Input\n",
    "sid = input(\"Enter student id : \")\n",
    "name = input(\"Enter student name : \")\n",
    "standard = input(\"Enter student class : \")\n",
    "section = input(\"Enter student section : \")\n",
    "\n",
    "sub1 = int(input(\"Enter sub1 marks : \"))\n",
    "sub2 = int(input(\"Enter sub2 marks : \"))\n",
    "\n",
    "# Process\n",
    "total = sub1 + sub2\n",
    "average = total/2\n",
    "\n",
    "# result-1\n",
    "result=\"FAIL\"\n",
    "if(sub1>=PM):\n",
    "    if(sub2>=PM):\n",
    "        result=\"PASS\"\n",
    "\n",
    "# grade\n",
    "if((result=='PASS') and (average>=90)):\n",
    "    grade='A+'\n",
    "elif((result=='PASS') and (average>=75) and (average<90)):\n",
    "    grade='A'\n",
    "else:\n",
    "    grade='Other'\n",
    "    \n",
    "# Output\n",
    "print(\"Total : \", total)\n",
    "print(\"Percentage : \", average)\n",
    "print(\"Result : \", result)\n",
    "print(\"Grade : \", grade)"
   ]
  },
  {
   "cell_type": "code",
   "execution_count": 1,
   "id": "7709f6fb",
   "metadata": {},
   "outputs": [
    {
     "name": "stdout",
     "output_type": "stream",
     "text": [
      "Hello\n"
     ]
    }
   ],
   "source": [
    "print(\"Hello\") # Statement(s)\n",
    "\n",
    "# user given name to statement(s)\n",
    "\n",
    "def f1():\n",
    "    print(\"Hello\") # Statement(s)\n",
    "    # declare\n",
    "    # input\n",
    "    # process\n",
    "    # output\n",
    "\n",
    "# write once; use many\n"
   ]
  },
  {
   "cell_type": "code",
   "execution_count": 10,
   "id": "b4ed9ef5",
   "metadata": {},
   "outputs": [
    {
     "name": "stdout",
     "output_type": "stream",
     "text": [
      "Hello\n",
      "Hello\n"
     ]
    }
   ],
   "source": [
    "f1() # Call\n",
    "f1() # Call"
   ]
  },
  {
   "cell_type": "code",
   "execution_count": 18,
   "id": "a4f49120",
   "metadata": {},
   "outputs": [
    {
     "name": "stdout",
     "output_type": "stream",
     "text": [
      "Hello\n",
      "Hello\n",
      "Hello\n",
      "Hello\n",
      "Hello\n",
      "Hello\n",
      "Hello\n",
      "Hello\n",
      "Hello\n",
      "Hello\n"
     ]
    }
   ],
   "source": [
    "for n in range(0, 10):\n",
    "    f1()"
   ]
  },
  {
   "cell_type": "code",
   "execution_count": null,
   "id": "08484391",
   "metadata": {},
   "outputs": [],
   "source": [
    "# Task\n",
    "    # Convert to functional program - student processing system\n",
    "    # Debug the program in VS Code/Spyder/Pycharm"
   ]
  },
  {
   "cell_type": "code",
   "execution_count": 1,
   "id": "bc42b044",
   "metadata": {},
   "outputs": [
    {
     "name": "stdout",
     "output_type": "stream",
     "text": [
      "Enter any value123\n",
      "<class 'str'>\n",
      "True\n"
     ]
    }
   ],
   "source": [
    "tmp = input(\"Enter any value\")\n",
    "print(type(tmp))\n",
    "print(isinstance(tmp, str))\n",
    "# can we chnage to float ?\n",
    "num1 = float(tmp)"
   ]
  },
  {
   "cell_type": "code",
   "execution_count": 35,
   "id": "089dd6ba",
   "metadata": {},
   "outputs": [],
   "source": [
    "# Parameter/Argument\n",
    "# Parameter(s) - Placeholder which accept values from caller\n",
    "# Argument(s) - value which send by caller\n",
    "# Return - value return by a function - always single value\n",
    "\n",
    "def print_info(message): # paramter - message\n",
    "    print(message)\n",
    "\n",
    "def print_info2(label, message): # parameters\n",
    "    print(label, \":\", message)\n",
    "    \n",
    "# default parameter\n",
    "def print_info3(label=\"ADDRESS\", message=\"KTM\"):\n",
    "    print(label, \":\", message)\n",
    "    \n",
    "# dynamic argument\n",
    "def doAdd(*args): # String, list, tuple, set, dicationlary, array\n",
    "    for object in args:\n",
    "        sum = 0\n",
    "        for item in object:\n",
    "            sum+=item\n",
    "        else:\n",
    "            print(\"SUM\", sum)\n",
    "\n",
    "# Recrisive function\n",
    "def doAdd2(num1):\n",
    "    if num1 == 1:\n",
    "        return 1\n",
    "    else:\n",
    "        return num1 + doAdd2(num1-1) # Recrisive\n",
    "    \n",
    "# outer/inner\n",
    "def outer(num1): # outer function\n",
    "    def inner(num2): # inner function\n",
    "        return (num2+1)\n",
    "    tmp_num = inner(num1) # Call inner function\n",
    "    print(tmp_num)"
   ]
  },
  {
   "cell_type": "code",
   "execution_count": 31,
   "id": "7d8b2c70",
   "metadata": {},
   "outputs": [
    {
     "name": "stdout",
     "output_type": "stream",
     "text": [
      "Hello\n",
      "How are you?\n",
      "NAME : RAJ RAI\n",
      "ADDRESS : KTM\n",
      "KTM : ADDRESS\n",
      "EMAIL : raju@gmail.com\n",
      "ADDRESS : Lat\n",
      "ADDRESS : KTM\n"
     ]
    }
   ],
   "source": [
    "# Call a function\n",
    "print_info(\"Hello\") # Argument\n",
    "var1 =\"How are you?\"\n",
    "print_info(var1) # Argument\n",
    "\n",
    "print_info2(\"NAME\", \"RAJ RAI\") # Arguments\n",
    "\n",
    "var1 = \"ADDRESS\"\n",
    "var2 = \"KTM\"\n",
    "print_info2(var1, var2) # Arguments\n",
    "print_info2(var2, var1) # Arguments\n",
    "\n",
    "print_info3(label=\"EMAIL\", message=\"raju@gmail.com\") # EMAIL : raju@gmail.com\n",
    "print_info3(message=\"Lat\") # ADDRESS : Lat\n",
    "print_info3() # default values"
   ]
  },
  {
   "cell_type": "code",
   "execution_count": 32,
   "id": "afc8944c",
   "metadata": {},
   "outputs": [
    {
     "name": "stdout",
     "output_type": "stream",
     "text": [
      "SUM 38\n",
      "SUM 68\n",
      "SUM 8\n"
     ]
    }
   ],
   "source": [
    "# doAdd(*args)\n",
    "doAdd([3,5,6,7,8,9])\n",
    "doAdd([3,5,6,7,8,9,6,7,8,9])\n",
    "doAdd([3,5])"
   ]
  },
  {
   "cell_type": "code",
   "execution_count": 52,
   "id": "d518d7e4",
   "metadata": {},
   "outputs": [
    {
     "data": {
      "text/plain": [
       "15"
      ]
     },
     "execution_count": 52,
     "metadata": {},
     "output_type": "execute_result"
    }
   ],
   "source": [
    "# Recrusive\n",
    "doAdd2(5)"
   ]
  },
  {
   "cell_type": "code",
   "execution_count": 36,
   "id": "f6d541b4",
   "metadata": {},
   "outputs": [
    {
     "name": "stdout",
     "output_type": "stream",
     "text": [
      "6\n"
     ]
    }
   ],
   "source": [
    "# outer/inner function\n",
    "outer(5)"
   ]
  },
  {
   "cell_type": "code",
   "execution_count": 51,
   "id": "cd19a9af",
   "metadata": {},
   "outputs": [
    {
     "name": "stdout",
     "output_type": "stream",
     "text": [
      "[2, 4, 6, 8, 2, 4, 6, 2, 4, 6, 8, 2, 4, 6, 2, 4, 6, 8, 2, 4, 6, 2, 4, 6, 8, 2, 4, 6]\n"
     ]
    }
   ],
   "source": [
    "# lambda functions\n",
    "increase = lambda n:n+1\n",
    "decrease = lambda n:n-1\n",
    "sum = lambda n1, n2: n1+n2\n",
    "\n",
    "my_list = [5,3,2,4,6,7,8,3,2,4,6,7,3,2,4,6,7,8,3,2,4,6,5,3,2,4,6,7,8,3,2,4,6,7,3,2,4,6,7,8,3,2,4,6]\n",
    "new_list = list(filter(lambda x: x %2 ==0, my_list))\n",
    "print(new_list)"
   ]
  },
  {
   "cell_type": "code",
   "execution_count": 46,
   "id": "022a3320",
   "metadata": {},
   "outputs": [
    {
     "name": "stdout",
     "output_type": "stream",
     "text": [
      "9\n",
      "7\n",
      "9\n"
     ]
    }
   ],
   "source": [
    "print(increase(8))\n",
    "print(decrease(8))\n",
    "print(sum(4,5))"
   ]
  },
  {
   "cell_type": "code",
   "execution_count": null,
   "id": "c780fe23",
   "metadata": {},
   "outputs": [],
   "source": []
  }
 ],
 "metadata": {
  "kernelspec": {
   "display_name": "Python 3 (ipykernel)",
   "language": "python",
   "name": "python3"
  },
  "language_info": {
   "codemirror_mode": {
    "name": "ipython",
    "version": 3
   },
   "file_extension": ".py",
   "mimetype": "text/x-python",
   "name": "python",
   "nbconvert_exporter": "python",
   "pygments_lexer": "ipython3",
   "version": "3.10.0"
  }
 },
 "nbformat": 4,
 "nbformat_minor": 5
}
