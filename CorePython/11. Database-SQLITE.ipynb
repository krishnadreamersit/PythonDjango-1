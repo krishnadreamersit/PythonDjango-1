{
 "cells": [
  {
   "cell_type": "code",
   "execution_count": null,
   "id": "07f115ab",
   "metadata": {},
   "outputs": [],
   "source": [
    "#CRUD\n",
    "    # Connect with db (SQlite-default db, MangoDB, Access, SQL Server, Oracle, MySQL, Mariadb)\n",
    "        # insert/create\n",
    "        # select/retrieve\n",
    "        # update/edit\n",
    "        # delete/remove\n",
    "    # Close connection"
   ]
  },
  {
   "cell_type": "code",
   "execution_count": 3,
   "id": "ddcb455a",
   "metadata": {},
   "outputs": [],
   "source": [
    "# Connect with SQLite DB\n",
    "# Step-1 - Import library (no need to install)\n",
    "import sqlite3\n",
    "\n",
    "# Step-2 - Create database file (mydb.db)\n",
    "# mydb.db\n",
    "\n",
    "# Step-3 - connect with db\n",
    "conn = sqlite3.connect(\"MyDb.db\")\n",
    "\n",
    "# Step-4 - Close Connection\n",
    "conn.close()"
   ]
  },
  {
   "cell_type": "code",
   "execution_count": 5,
   "id": "6b478023",
   "metadata": {},
   "outputs": [
    {
     "name": "stdout",
     "output_type": "stream",
     "text": [
      "Connect, close database connection\n"
     ]
    }
   ],
   "source": [
    "# Connect with db\n",
    "import sys\n",
    "import sqlite3\n",
    "try:\n",
    "    conn = sqlite3.connect(\"MyDb.db\")\n",
    "    conn.close()\n",
    "    print(\"Connect, close database connection\")\n",
    "except:\n",
    "    print(\"Error : \", sys.exc_info()[1])\n",
    "finally:\n",
    "    pass"
   ]
  },
  {
   "cell_type": "code",
   "execution_count": 13,
   "id": "422537e6",
   "metadata": {},
   "outputs": [
    {
     "name": "stdout",
     "output_type": "stream",
     "text": [
      "Create database table\n"
     ]
    }
   ],
   "source": [
    "# Create a table\n",
    "import sys\n",
    "import sqlite3\n",
    "sql=\"\"\"\n",
    "    CREATE TABLE persons(\n",
    "        pid INTEGER PRIMARY KEY AUTOINCREMENT,\n",
    "        fullname TEXT(50),\n",
    "        contactaddress TEXT(50)\n",
    "    )\n",
    "\"\"\"\n",
    "try:\n",
    "    conn = sqlite3.connect(\"MyDb.db\")\n",
    "    cursor = conn.cursor()\n",
    "    cursor.execute(sql)\n",
    "    conn.commit()\n",
    "    conn.close()\n",
    "    print(\"Create database table\")\n",
    "except:\n",
    "    print(\"Error : \", sys.exc_info()[1])\n",
    "finally:\n",
    "    pass"
   ]
  },
  {
   "cell_type": "code",
   "execution_count": 15,
   "id": "6134b048",
   "metadata": {},
   "outputs": [
    {
     "name": "stdout",
     "output_type": "stream",
     "text": [
      "Insert record on table\n"
     ]
    }
   ],
   "source": [
    "# insert record on table\n",
    "import sys\n",
    "import sqlite3\n",
    "sql=\"\"\"\n",
    "   INSERT INTO persons(fullname, contactaddress) values('Raj Rai', 'Bhaktapur')\n",
    "\"\"\"\n",
    "try:\n",
    "    conn = sqlite3.connect(\"MyDb.db\")\n",
    "    cursor = conn.cursor()\n",
    "    cursor.execute(sql)\n",
    "    conn.commit()\n",
    "    conn.close()\n",
    "    print(\"Insert record on table\")\n",
    "except:\n",
    "    print(\"Error : \", sys.exc_info()[1])\n",
    "finally:\n",
    "    pass"
   ]
  },
  {
   "cell_type": "code",
   "execution_count": null,
   "id": "293ff081",
   "metadata": {},
   "outputs": [],
   "source": [
    "# Homework\n",
    "    # Retrieve Record\n",
    "    # Update Record\n",
    "    # Delete Record"
   ]
  },
  {
   "cell_type": "code",
   "execution_count": 16,
   "id": "0c4e65ec",
   "metadata": {},
   "outputs": [],
   "source": [
    "# References\n",
    "# https://sqliteonline.com/"
   ]
  }
 ],
 "metadata": {
  "kernelspec": {
   "display_name": "Python 3 (ipykernel)",
   "language": "python",
   "name": "python3"
  },
  "language_info": {
   "codemirror_mode": {
    "name": "ipython",
    "version": 3
   },
   "file_extension": ".py",
   "mimetype": "text/x-python",
   "name": "python",
   "nbconvert_exporter": "python",
   "pygments_lexer": "ipython3",
   "version": "3.10.0"
  }
 },
 "nbformat": 4,
 "nbformat_minor": 5
}
