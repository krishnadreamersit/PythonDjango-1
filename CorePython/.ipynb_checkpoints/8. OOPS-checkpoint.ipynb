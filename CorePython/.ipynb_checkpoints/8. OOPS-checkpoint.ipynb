{
 "cells": [
  {
   "cell_type": "markdown",
   "id": "b2028e74",
   "metadata": {},
   "source": [
    "## OOPS"
   ]
  },
  {
   "cell_type": "code",
   "execution_count": 1,
   "id": "ff8cf037",
   "metadata": {},
   "outputs": [],
   "source": [
    "# Object Oriented Programming (OOP)\n",
    "    # Class (Blue-print), Object (Instance of a Class)"
   ]
  },
  {
   "cell_type": "code",
   "execution_count": 4,
   "id": "c53bc39d",
   "metadata": {},
   "outputs": [],
   "source": [
    "# how to create a class\n",
    "class Class1():\n",
    "    pass\n",
    "    # your code goes here\n",
    "    # decalre variable/input/process/output"
   ]
  },
  {
   "cell_type": "code",
   "execution_count": 5,
   "id": "500bc86b",
   "metadata": {},
   "outputs": [],
   "source": [
    "# how to create an object of a class\n",
    "obj1 = Class1()\n",
    "\n",
    "# through obj1 we can access the resources of Class1\n",
    "    # varaibles\n",
    "    # functions"
   ]
  },
  {
   "cell_type": "code",
   "execution_count": 19,
   "id": "99be45c5",
   "metadata": {},
   "outputs": [
    {
     "name": "stdout",
     "output_type": "stream",
     "text": [
      "Broadway\n",
      "Raj Rai\n",
      "Broadway\n",
      "Kiran Thapa\n",
      "2763681020320\n",
      "2763681011392\n",
      "<class '__main__.Class1'>\n",
      "<class '__main__.Class1'>\n",
      "True\n",
      "False\n",
      "True\n"
     ]
    }
   ],
   "source": [
    "# Task\n",
    "class Class1():\n",
    "    var1 = \"Broadway\" # default value\n",
    "\n",
    "obj1 = Class1() # object of class1\n",
    "print(obj1.var1) # Access the varaible\n",
    "\n",
    "obj1.var1 = \"Raj Rai\" # update value\n",
    "print(obj1.var1) # access the variable\n",
    "\n",
    "obj2 = Class1()\n",
    "print(obj2.var1) # Access the varaible\n",
    "\n",
    "obj2.var1 = \"Kiran Thapa\" # update value\n",
    "print(obj2.var1) # access the variable\n",
    "\n",
    "print(id(obj1))\n",
    "print(id(obj2))\n",
    "\n",
    "print(type(obj1))\n",
    "print(type(obj2))\n",
    "\n",
    "result = type(obj1) == type(obj2)\n",
    "print(result)\n",
    "\n",
    "result = obj1 is obj2\n",
    "print(result)\n",
    "\n",
    "result = obj1 is not obj2\n",
    "print(result)"
   ]
  },
  {
   "cell_type": "code",
   "execution_count": 25,
   "id": "f2c97ae1",
   "metadata": {},
   "outputs": [
    {
     "name": "stdout",
     "output_type": "stream",
     "text": [
      "Hello from print_info()\n",
      "Hello from print_info()\n"
     ]
    }
   ],
   "source": [
    "# Class with methods (functions)\n",
    "class Class1():\n",
    "    def print_info(self):\n",
    "        print(\"Hello from print_info()\")\n",
    "\n",
    "obj1 = Class1()\n",
    "obj1.print_info()# self\n",
    "\n",
    "obj2 = Class1()\n",
    "obj2.print_info()\n"
   ]
  },
  {
   "cell_type": "code",
   "execution_count": 39,
   "id": "07c6cfb7",
   "metadata": {},
   "outputs": [
    {
     "name": "stdout",
     "output_type": "stream",
     "text": [
      "Raj Rai\n"
     ]
    }
   ],
   "source": [
    "# Class with varaible and methods\n",
    "class Class1():\n",
    "    fullName=None\n",
    "    \n",
    "    def setFullName(self, full_name):\n",
    "        fullName=full_name\n",
    "        print(fullName)\n",
    "        \n",
    "#     def getFullName(self):\n",
    "#         print(fullName)\n",
    "\n",
    "obj1 = Class1()\n",
    "obj1.setFullName(\"Raj Rai\")# can set\n",
    "# obj1.getFullName() # cannt get"
   ]
  },
  {
   "cell_type": "code",
   "execution_count": 75,
   "id": "16cb0b3f",
   "metadata": {},
   "outputs": [
    {
     "name": "stdout",
     "output_type": "stream",
     "text": [
      "Raj\n",
      "Kiran Thapa\n"
     ]
    }
   ],
   "source": [
    "# Class with instance varaible\n",
    "class Class1():\n",
    "    def __init__(self, full_name=\"\"): # Constructor\n",
    "        self.full_name=full_name # instance varaible\n",
    "    \n",
    "    def setFullName(self, full_name): # setter method\n",
    "        self.full_name=full_name\n",
    "    \n",
    "    def getFullName(self): # getter method\n",
    "        return self.full_name\n",
    "    \n",
    "obj1= Class1(\"Raj\")\n",
    "print(obj1.getFullName())\n",
    "\n",
    "obj1.setFullName(\"Kiran Thapa\")\n",
    "print(obj1.getFullName())"
   ]
  },
  {
   "cell_type": "code",
   "execution_count": 76,
   "id": "093bb33b",
   "metadata": {},
   "outputs": [],
   "source": [
    "# Student processing system - convert to OOP and Test"
   ]
  },
  {
   "cell_type": "code",
   "execution_count": 26,
   "id": "44b93ee9",
   "metadata": {},
   "outputs": [],
   "source": [
    "class Calculator():\n",
    "    def __init__(self, num1=0, num2=0): # init function\n",
    "        self.num1 = num1\n",
    "        self.num2 = num2\n",
    "        self.num3 = 0\n",
    "    \n",
    "    def setNum1(self, num1=0):\n",
    "        self.num1=num1\n",
    "    \n",
    "    def setNum2(self, num2=0):\n",
    "        self.num2=num2\n",
    "    \n",
    "    def calcSum(self):\n",
    "        self.num3 = self.num1 + self.num2\n",
    "    \n",
    "    def getNum1(self):\n",
    "        return self.num1\n",
    "    \n",
    "    def getNum2(self):\n",
    "        return self.num2\n",
    "    \n",
    "    def getNum3(self):\n",
    "        return self.num3\n",
    "    \n",
    "    def __str__(self):\n",
    "        # return str(self.num1)+\", \"+str(self.num2)+\", \"+str(self.num3)\n",
    "        return \"{'num1':\"+str(self.num1)+\", 'num2':\"+str(self.num2)+\", 'num3:'\"+str(self.num3)+\"}\""
   ]
  },
  {
   "cell_type": "code",
   "execution_count": 27,
   "id": "c493cbe4",
   "metadata": {},
   "outputs": [
    {
     "name": "stdout",
     "output_type": "stream",
     "text": [
      "2\n",
      "5\n",
      "7\n",
      "\n",
      "17\n",
      "5\n",
      "22\n",
      "\n",
      "{'num1':17, 'num2':5, 'num3:'22}\n"
     ]
    }
   ],
   "source": [
    "calc1 = Calculator(2,5)\n",
    "calc1.calcSum()\n",
    "print(calc1.getNum1())\n",
    "print(calc1.getNum2())\n",
    "print(calc1.getNum3())\n",
    "print()\n",
    "\n",
    "calc1.setNum1(17)\n",
    "calc1.calcSum()\n",
    "print(calc1.getNum1())\n",
    "print(calc1.getNum2())\n",
    "print(calc1.getNum3())\n",
    "print()\n",
    "print(calc1) # print object call __str__(self)"
   ]
  },
  {
   "cell_type": "markdown",
   "id": "c26b77a3",
   "metadata": {},
   "source": [
    "### Inheritance"
   ]
  },
  {
   "cell_type": "code",
   "execution_count": 4,
   "id": "a00ae5ce",
   "metadata": {},
   "outputs": [],
   "source": [
    "# class\n",
    "# class varaible\n",
    "# init\n",
    "# instance variable\n",
    "# setter/getter/process methods\n",
    "# str\n",
    "# object.variable/method()\n",
    "\n",
    "# Encapsulation\n",
    "class Class1():  # super class\n",
    "    def f1(self):\n",
    "        print(\"Hello from f1() of Class1\")\n",
    "\n",
    "# Inheritance\n",
    "class Class2(Class1): # sub class\n",
    "    def f1(self): # Method Overriding\n",
    "        print(\"Hello from f1() of Class2\")\n",
    "\n",
    "class Class3(Class1): # sub class\n",
    "    pass"
   ]
  },
  {
   "cell_type": "code",
   "execution_count": 5,
   "id": "04c67005",
   "metadata": {},
   "outputs": [
    {
     "name": "stdout",
     "output_type": "stream",
     "text": [
      "Hello from f1() of Class1\n",
      "Hello from f1() of Class2\n",
      "Hello from f1() of Class1\n"
     ]
    }
   ],
   "source": [
    "obj1 = Class1()\n",
    "obj1.f1()\n",
    "\n",
    "obj2 = Class2()\n",
    "obj2.f1()\n",
    "\n",
    "obj3 = Class3()\n",
    "obj3.f1()"
   ]
  },
  {
   "cell_type": "code",
   "execution_count": 23,
   "id": "150cde1b",
   "metadata": {},
   "outputs": [],
   "source": [
    "# calling super class init method\n",
    "# method overriding\n",
    "\n",
    "class Class1(): # class name\n",
    "    def __init__(self, pid=0): # initializer\n",
    "        self.pid=pid # instance variable\n",
    "    def getPid(self): # getter method\n",
    "        return self.pid\n",
    "    def setPid(self, pid): # setter method\n",
    "        self.pid=pid\n",
    "    def __str__(self): # str metho\n",
    "        return str(self.pid)\n",
    "\n",
    "class Class2():\n",
    "    def __init__(self, fullname=\"\"):\n",
    "        self.fullname=fullname\n",
    "    def getFullName(self):\n",
    "        return self.fullname\n",
    "    def setFullName(self, fullname):\n",
    "        self.fullname=fullname\n",
    "    def __str__(self):\n",
    "        return self.fullname\n",
    "        \n",
    "    \n",
    "class Class3(Class1):\n",
    "    def __init__(self, pid=0, fullname=\"\"):\n",
    "        Class1.__init__(self, pid)\n",
    "        self.fullname=fullname\n",
    "    \n",
    "    # method overriding\n",
    "    def getPid(self): # getter method\n",
    "        return Class1.getPid(self)\n",
    "    \n",
    "    # method overriding\n",
    "    def setPid(self, pid): # setter method\n",
    "        Class1.setPid(self, pid)\n",
    "        \n",
    "    def getFullName(self):\n",
    "        return self.fullname\n",
    "    \n",
    "    def setFullName(self, fullname):\n",
    "        self.fullname=fullname\n",
    "        \n",
    "    def __str__(self):\n",
    "        return Class1.__str__(self)+\", \"+self.fullname\n",
    "    "
   ]
  },
  {
   "cell_type": "code",
   "execution_count": 24,
   "id": "4546557a",
   "metadata": {},
   "outputs": [
    {
     "name": "stdout",
     "output_type": "stream",
     "text": [
      "2\n",
      "2\n",
      "5\n",
      "5\n"
     ]
    }
   ],
   "source": [
    "obj1 = Class1(2) # declare and initialize -call init\n",
    "print(obj1.getPid()) # get\n",
    "print(obj1) # get all\n",
    "obj1.setPid(5) # set new value\n",
    "print(obj1.getPid()) # get\n",
    "print(obj1) # get all"
   ]
  },
  {
   "cell_type": "code",
   "execution_count": 25,
   "id": "5328b198",
   "metadata": {},
   "outputs": [
    {
     "name": "stdout",
     "output_type": "stream",
     "text": [
      "3\n",
      "Kiran\n",
      "4\n",
      "4, Kiran\n"
     ]
    }
   ],
   "source": [
    "obj3 = Class3(3, \"Kiran\")\n",
    "print(obj3.getPid())\n",
    "print(obj3.getFullName())\n",
    "obj3.setPid(4)\n",
    "print(obj3.getPid())\n",
    "print(obj3)"
   ]
  },
  {
   "cell_type": "code",
   "execution_count": null,
   "id": "daa5bd1f",
   "metadata": {},
   "outputs": [],
   "source": []
  },
  {
   "cell_type": "code",
   "execution_count": null,
   "id": "eb9c87fc",
   "metadata": {},
   "outputs": [],
   "source": []
  }
 ],
 "metadata": {
  "kernelspec": {
   "display_name": "Python 3 (ipykernel)",
   "language": "python",
   "name": "python3"
  },
  "language_info": {
   "codemirror_mode": {
    "name": "ipython",
    "version": 3
   },
   "file_extension": ".py",
   "mimetype": "text/x-python",
   "name": "python",
   "nbconvert_exporter": "python",
   "pygments_lexer": "ipython3",
   "version": "3.10.0"
  }
 },
 "nbformat": 4,
 "nbformat_minor": 5
}
