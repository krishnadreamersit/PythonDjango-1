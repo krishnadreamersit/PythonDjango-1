{
 "cells": [
  {
   "cell_type": "markdown",
   "id": "2809caf3",
   "metadata": {},
   "source": [
    "### Error Handling in Python"
   ]
  },
  {
   "cell_type": "code",
   "execution_count": 1,
   "id": "e823b683",
   "metadata": {},
   "outputs": [],
   "source": [
    "# Types of Error\n",
    "    # Syntax Error\n",
    "    # Runtime Error"
   ]
  },
  {
   "cell_type": "code",
   "execution_count": 8,
   "id": "2b2cc081",
   "metadata": {},
   "outputs": [
    {
     "name": "stdout",
     "output_type": "stream",
     "text": [
      "\n",
      "\n"
     ]
    }
   ],
   "source": [
    "# Syntax Error\n",
    "print() # No error\n",
    "# print( # SyntaxError: '(' was never closed\n",
    "# SyntaxError\n",
    "# Compiler\n",
    "print()\n",
    "\n",
    "# var1 = \n",
    "# SyntaxError: invalid syntax\n",
    "var1 = 235235"
   ]
  },
  {
   "cell_type": "code",
   "execution_count": null,
   "id": "04be4ac8",
   "metadata": {},
   "outputs": [],
   "source": [
    "# Runtime Error\n",
    "    # ZeroDivisionError\n",
    "    # ValueError\n",
    "    # NameError\n",
    "    \n",
    "# num1 = 23\n",
    "# num2 = 0 # ZeroDivisionError: division by zero\n",
    "# num3 = num1 / num2\n",
    "# print(num3)\n",
    "\n",
    "while(True):\n",
    "    num1 = int(input(\"Enter first no : \"))\n",
    "    num2 = int(input(\"Enter second no : \"))\n",
    "    num3 = num1 / num2\n",
    "    print(num3)"
   ]
  },
  {
   "cell_type": "code",
   "execution_count": 9,
   "id": "690fce10",
   "metadata": {},
   "outputs": [
    {
     "name": "stdout",
     "output_type": "stream",
     "text": [
      "Enter first no : 12\n",
      "Enter second no : 21\n",
      "0.5714285714285714\n",
      "Enter first no : 3\n",
      "Enter second no : 2\n",
      "1.5\n",
      "Enter first no : 12.34\n"
     ]
    },
    {
     "ename": "ValueError",
     "evalue": "invalid literal for int() with base 10: '12.34'",
     "output_type": "error",
     "traceback": [
      "\u001b[1;31m---------------------------------------------------------------------------\u001b[0m",
      "\u001b[1;31mValueError\u001b[0m                                Traceback (most recent call last)",
      "\u001b[1;32mC:\\Users\\ADMINI~1\\AppData\\Local\\Temp/ipykernel_16920/655452733.py\u001b[0m in \u001b[0;36m<module>\u001b[1;34m\u001b[0m\n\u001b[0;32m      1\u001b[0m \u001b[1;32mwhile\u001b[0m\u001b[1;33m(\u001b[0m\u001b[1;32mTrue\u001b[0m\u001b[1;33m)\u001b[0m\u001b[1;33m:\u001b[0m\u001b[1;33m\u001b[0m\u001b[1;33m\u001b[0m\u001b[0m\n\u001b[1;32m----> 2\u001b[1;33m     \u001b[0mnum1\u001b[0m \u001b[1;33m=\u001b[0m \u001b[0mint\u001b[0m\u001b[1;33m(\u001b[0m\u001b[0minput\u001b[0m\u001b[1;33m(\u001b[0m\u001b[1;34m\"Enter first no : \"\u001b[0m\u001b[1;33m)\u001b[0m\u001b[1;33m)\u001b[0m\u001b[1;33m\u001b[0m\u001b[1;33m\u001b[0m\u001b[0m\n\u001b[0m\u001b[0;32m      3\u001b[0m     \u001b[0mnum2\u001b[0m \u001b[1;33m=\u001b[0m \u001b[0mint\u001b[0m\u001b[1;33m(\u001b[0m\u001b[0minput\u001b[0m\u001b[1;33m(\u001b[0m\u001b[1;34m\"Enter second no : \"\u001b[0m\u001b[1;33m)\u001b[0m\u001b[1;33m)\u001b[0m\u001b[1;33m\u001b[0m\u001b[1;33m\u001b[0m\u001b[0m\n\u001b[0;32m      4\u001b[0m     \u001b[0mnum3\u001b[0m \u001b[1;33m=\u001b[0m \u001b[0mnum1\u001b[0m \u001b[1;33m/\u001b[0m \u001b[0mnum2\u001b[0m\u001b[1;33m\u001b[0m\u001b[1;33m\u001b[0m\u001b[0m\n\u001b[0;32m      5\u001b[0m     \u001b[0mprint\u001b[0m\u001b[1;33m(\u001b[0m\u001b[0mnum3\u001b[0m\u001b[1;33m)\u001b[0m\u001b[1;33m\u001b[0m\u001b[1;33m\u001b[0m\u001b[0m\n",
      "\u001b[1;31mValueError\u001b[0m: invalid literal for int() with base 10: '12.34'"
     ]
    }
   ],
   "source": [
    "while(True):\n",
    "    num1 = int(input(\"Enter first no : \")) # 12.34 # ValueError: invalid literal for int() with base 10: '12.34'\n",
    "    num2 = int(input(\"Enter second no : \"))\n",
    "    num3 = num1 / num2\n",
    "    print(num3)"
   ]
  },
  {
   "cell_type": "code",
   "execution_count": 11,
   "id": "73ec6015",
   "metadata": {},
   "outputs": [
    {
     "ename": "NameError",
     "evalue": "name 'var2' is not defined",
     "output_type": "error",
     "traceback": [
      "\u001b[1;31m---------------------------------------------------------------------------\u001b[0m",
      "\u001b[1;31mNameError\u001b[0m                                 Traceback (most recent call last)",
      "\u001b[1;32mC:\\Users\\ADMINI~1\\AppData\\Local\\Temp/ipykernel_16920/18089136.py\u001b[0m in \u001b[0;36m<module>\u001b[1;34m\u001b[0m\n\u001b[1;32m----> 1\u001b[1;33m \u001b[0mprint\u001b[0m\u001b[1;33m(\u001b[0m\u001b[0mvar2\u001b[0m\u001b[1;33m)\u001b[0m\u001b[1;33m\u001b[0m\u001b[1;33m\u001b[0m\u001b[0m\n\u001b[0m",
      "\u001b[1;31mNameError\u001b[0m: name 'var2' is not defined"
     ]
    }
   ],
   "source": [
    "print(var2) # NameError: name 'var2' is not defined"
   ]
  },
  {
   "cell_type": "code",
   "execution_count": null,
   "id": "a3217ac2",
   "metadata": {},
   "outputs": [],
   "source": [
    "# Handling runtime errors\n",
    "\"\"\"\n",
    "    declare\n",
    "    try:\n",
    "        input, process, output\n",
    "    except:\n",
    "        print error message\n",
    "    finally:\n",
    "        end of program\n",
    "\"\"\""
   ]
  },
  {
   "cell_type": "code",
   "execution_count": 22,
   "id": "33f5d846",
   "metadata": {},
   "outputs": [
    {
     "name": "stdout",
     "output_type": "stream",
     "text": [
      "Enter first no : 12\n",
      "Enter second no : 12O\n",
      "Error :  invalid literal for int() with base 10: '12O'\n"
     ]
    }
   ],
   "source": [
    "# Example of runtime error\n",
    "import sys\n",
    "\n",
    "# declare\n",
    "num1 = None\n",
    "num2 = None\n",
    "num3 = None\n",
    "\n",
    "try:\n",
    "    #input, process, output\n",
    "    # num1 = int(input(\"Enter first no : \"))\n",
    "    # num2 = int(input(\"Enter second no : \"))\n",
    "    \n",
    "    tmp1 = input(\"Enter first no : \")\n",
    "    tmp2 = input(\"Enter second no : \")\n",
    "    \n",
    "    # validation - user defined function\n",
    "    # tmp1 - valid or not?\n",
    "    # tmp2 - valid or not?\n",
    "    # if both are valid than\n",
    "    # convert to int\n",
    "    # else\n",
    "    # alert to user by user defined exceptions\n",
    "    \n",
    "    num3 = num1 /num2\n",
    "    print(\"Result : {}\".format(num3))\n",
    "except:\n",
    "    print(\"Error : \", sys.exc_info()[1])\n",
    "finally:\n",
    "    # free memory\n",
    "    del num1\n",
    "    del num2\n",
    "    del num3\n",
    "    # disconnect network\n",
    "    # close connection of db\n",
    "    # close file\n"
   ]
  },
  {
   "cell_type": "markdown",
   "id": "572901a0",
   "metadata": {},
   "source": [
    "# import sys\n",
    "# help(sys)"
   ]
  },
  {
   "cell_type": "code",
   "execution_count": 1,
   "id": "6a11a781",
   "metadata": {},
   "outputs": [],
   "source": [
    "# User Defined Exceptions\n",
    "class MyException(Exception):\n",
    "    pass"
   ]
  },
  {
   "cell_type": "code",
   "execution_count": 8,
   "id": "9ad07f15",
   "metadata": {},
   "outputs": [
    {
     "name": "stdout",
     "output_type": "stream",
     "text": [
      "Enter any number : 2o\n"
     ]
    },
    {
     "ename": "ValueError",
     "evalue": "invalid literal for int() with base 10: '2o'",
     "output_type": "error",
     "traceback": [
      "\u001b[1;31m---------------------------------------------------------------------------\u001b[0m",
      "\u001b[1;31mValueError\u001b[0m                                Traceback (most recent call last)",
      "\u001b[1;32mC:\\Users\\ADMINI~1\\AppData\\Local\\Temp/ipykernel_1704/2487601476.py\u001b[0m in \u001b[0;36m<module>\u001b[1;34m\u001b[0m\n\u001b[0;32m     17\u001b[0m \"\"\"\n\u001b[0;32m     18\u001b[0m \u001b[1;31m# v1\u001b[0m\u001b[1;33m\u001b[0m\u001b[1;33m\u001b[0m\u001b[0m\n\u001b[1;32m---> 19\u001b[1;33m \u001b[0mnum1\u001b[0m \u001b[1;33m=\u001b[0m \u001b[0mint\u001b[0m\u001b[1;33m(\u001b[0m\u001b[0minput\u001b[0m\u001b[1;33m(\u001b[0m\u001b[1;34m\"Enter any number : \"\u001b[0m\u001b[1;33m)\u001b[0m\u001b[1;33m)\u001b[0m\u001b[1;33m\u001b[0m\u001b[1;33m\u001b[0m\u001b[0m\n\u001b[0m\u001b[0;32m     20\u001b[0m \u001b[1;32mif\u001b[0m\u001b[1;33m(\u001b[0m\u001b[0mnum1\u001b[0m\u001b[1;33m<=\u001b[0m\u001b[1;36m9\u001b[0m\u001b[1;33m)\u001b[0m\u001b[1;33m:\u001b[0m\u001b[1;33m\u001b[0m\u001b[1;33m\u001b[0m\u001b[0m\n\u001b[0;32m     21\u001b[0m     \u001b[0mprint\u001b[0m\u001b[1;33m(\u001b[0m\u001b[1;34m\"number in low range\"\u001b[0m\u001b[1;33m)\u001b[0m\u001b[1;33m\u001b[0m\u001b[1;33m\u001b[0m\u001b[0m\n",
      "\u001b[1;31mValueError\u001b[0m: invalid literal for int() with base 10: '2o'"
     ]
    }
   ],
   "source": [
    "# manually handle the user defined exceptions\n",
    "# ? implementation of User defined exceptions\n",
    "\n",
    "\"\"\"\n",
    "    decalre\n",
    "    try:\n",
    "        input/process/output\n",
    "    except:\n",
    "        print error message\n",
    "    finally:\n",
    "        end of program\n",
    "\"\"\"\n",
    "\"\"\"\n",
    "    <=9 - low range\n",
    "    10-20- ok\n",
    "    >=21 - high range\n",
    "\"\"\"\n",
    "# v1\n",
    "num1 = int(input(\"Enter any number : \"))\n",
    "if(num1<=9):\n",
    "    print(\"number in low range\")\n",
    "elif(num1 >=10 and num1<=20):\n",
    "    print(\"normal\")\n",
    "elif(num1>=21):\n",
    "    print(\"number in high range\")"
   ]
  },
  {
   "cell_type": "code",
   "execution_count": 21,
   "id": "c21f4c20",
   "metadata": {},
   "outputs": [
    {
     "name": "stdout",
     "output_type": "stream",
     "text": [
      "Enter any number : 9\n",
      "number in low range\n",
      "End\n"
     ]
    }
   ],
   "source": [
    "# v2\n",
    "import sys\n",
    "num1 = None\n",
    "try:\n",
    "#     num1 = input(\"Enter any number : \")\n",
    "    num1 = int(input(\"Enter any number : \"))\n",
    "    if(num1<=9):\n",
    "        print(\"number in low range\")\n",
    "    elif(num1 >=10 and num1<=20):\n",
    "        print(\"normal\")\n",
    "    elif(num1>=21):\n",
    "        print(\"number in high range\")\n",
    "except NameError:\n",
    "    print(\"Error1 : \", sys.exc_info()[1])\n",
    "except ValueError:\n",
    "    print(\"Error2 : \", sys.exc_info()[1])\n",
    "except TypeError:\n",
    "    print(\"Error3 : \", sys.exc_info()[1])\n",
    "finally:\n",
    "    print(\"End\")"
   ]
  },
  {
   "cell_type": "code",
   "execution_count": 33,
   "id": "ced41df4",
   "metadata": {},
   "outputs": [
    {
     "name": "stdout",
     "output_type": "stream",
     "text": [
      "Enter any number : 15\n",
      "normal\n",
      "End\n"
     ]
    }
   ],
   "source": [
    "# v3\n",
    "import sys\n",
    "\n",
    "class MyException(Exception):\n",
    "    pass\n",
    "class ValueLowEexception(MyException):\n",
    "    pass\n",
    "class ValueHighEexception(MyException):\n",
    "    pass\n",
    "\n",
    "num1 = None\n",
    "try:\n",
    "#     num1 = input(\"Enter any number : \")\n",
    "    num1 = int(input(\"Enter any number : \"))\n",
    "    if(num1<=9):\n",
    "#         print(\"number in low range\")\n",
    "        raise ValueLowEexception\n",
    "    elif(num1>=21):\n",
    "#         print(\"number in high range\")\n",
    "        raise ValueHighEexception\n",
    "    \n",
    "    print(\"normal\")\n",
    "except NameError:\n",
    "    print(\"Error1 : \", sys.exc_info()[1])\n",
    "except ValueError:\n",
    "    print(\"Error2 : \", sys.exc_info()[1])\n",
    "except TypeError:\n",
    "    print(\"Error3 : \", sys.exc_info()[1])\n",
    "except ValueLowEexception:\n",
    "    print(\"Error4 : VALUE LOW IN RANGE\")\n",
    "except ValueHighEexception:\n",
    "    print(\"Error5 : VALUE HIGH IN RANGE\")\n",
    "finally:\n",
    "    print(\"End\")"
   ]
  },
  {
   "cell_type": "code",
   "execution_count": null,
   "id": "ba4d5dd3",
   "metadata": {},
   "outputs": [],
   "source": [
    "# array\n",
    "# list\n",
    "# tuple\n",
    "# set\n",
    "# dict\n",
    "# str\n",
    "# explore methods"
   ]
  },
  {
   "cell_type": "code",
   "execution_count": null,
   "id": "7333f1c1",
   "metadata": {},
   "outputs": [],
   "source": []
  }
 ],
 "metadata": {
  "kernelspec": {
   "display_name": "Python 3 (ipykernel)",
   "language": "python",
   "name": "python3"
  },
  "language_info": {
   "codemirror_mode": {
    "name": "ipython",
    "version": 3
   },
   "file_extension": ".py",
   "mimetype": "text/x-python",
   "name": "python",
   "nbconvert_exporter": "python",
   "pygments_lexer": "ipython3",
   "version": "3.10.0"
  }
 },
 "nbformat": 4,
 "nbformat_minor": 5
}
