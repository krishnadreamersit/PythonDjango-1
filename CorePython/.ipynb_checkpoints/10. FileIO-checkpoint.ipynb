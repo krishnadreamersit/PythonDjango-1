{
 "cells": [
  {
   "cell_type": "markdown",
   "id": "7c450f36",
   "metadata": {},
   "source": [
    "# Write/read content on/from file"
   ]
  },
  {
   "cell_type": "code",
   "execution_count": 1,
   "id": "b4556292",
   "metadata": {},
   "outputs": [],
   "source": [
    "# File/Folder\n",
    "# path\n",
    "    # relative path ... folder\\file (inside current folder)\n",
    "    # absolute path ... drive\\folder\\file\n",
    "# filename (filename.extensionname)\n",
    "# nework pc (\\\\networkpcname\\foldername\\filename)\n",
    "    # read/write permission allowed"
   ]
  },
  {
   "cell_type": "code",
   "execution_count": 12,
   "id": "4e06fdcc",
   "metadata": {},
   "outputs": [
    {
     "name": "stdout",
     "output_type": "stream",
     "text": [
      "File open successfully\n",
      "File close successfully\n"
     ]
    }
   ],
   "source": [
    "# Creating new file\n",
    "# open(filename)\n",
    "# open(filename, mode) # read or write\n",
    "\n",
    "# Example\n",
    "import sys\n",
    "try:\n",
    "    file1 = open(\"data\\\\file1.txt\")# open file\n",
    "    print(\"File open successfully\")\n",
    "    file1.close()\n",
    "    print(\"File close successfully\")\n",
    "except:\n",
    "    print(\"Error : \", sys.exc_info()[1])\n",
    "finally:\n",
    "    pass"
   ]
  },
  {
   "cell_type": "code",
   "execution_count": 20,
   "id": "e4726f2b",
   "metadata": {},
   "outputs": [
    {
     "name": "stdout",
     "output_type": "stream",
     "text": [
      "File create succssfully\n"
     ]
    }
   ],
   "source": [
    "import sys\n",
    "try:\n",
    "    file1 = open(\"data\\\\file3.txt\", \"w\") # \"w\" - write mode; \"r\" - read mode\n",
    "    file1.close()\n",
    "    print(\"File create succssfully\")\n",
    "except:\n",
    "    print(\"Error : \", sys.exc_info()[1])\n",
    "finally:\n",
    "    pass"
   ]
  },
  {
   "cell_type": "code",
   "execution_count": 21,
   "id": "59b86cdc",
   "metadata": {},
   "outputs": [
    {
     "name": "stdout",
     "output_type": "stream",
     "text": [
      "File create succssfully\n"
     ]
    }
   ],
   "source": [
    "import sys\n",
    "try:\n",
    "    file1 = open(\"data\\\\file3.txt\", \"a\") # \"w\" - write mode; \"r\" - read mode\n",
    "    file1.close()\n",
    "    print(\"File create succssfully\")\n",
    "except:\n",
    "    print(\"Error : \", sys.exc_info()[1])\n",
    "finally:\n",
    "    pass"
   ]
  },
  {
   "cell_type": "code",
   "execution_count": 22,
   "id": "3ff94bd0",
   "metadata": {},
   "outputs": [],
   "source": [
    "# \"r\" - read only\n",
    "# \"w\" - write\n",
    "# \"a\" - append"
   ]
  },
  {
   "cell_type": "code",
   "execution_count": 25,
   "id": "a3bf9671",
   "metadata": {},
   "outputs": [
    {
     "name": "stdout",
     "output_type": "stream",
     "text": [
      "Write content on file successfully\n"
     ]
    }
   ],
   "source": [
    "# Writing contents\n",
    "import sys\n",
    "try:\n",
    "    str1 = \"Hello from Python!\"\n",
    "    file = open(\"data\\\\file1.txt\",\"w\")\n",
    "    file.write(str1)\n",
    "    file.close()\n",
    "    print(\"Write content on file successfully\")\n",
    "except:\n",
    "    print(\"Error : \", sys.exc_info()[1])\n",
    "finally:\n",
    "    pass"
   ]
  },
  {
   "cell_type": "code",
   "execution_count": null,
   "id": "3780f990",
   "metadata": {},
   "outputs": [],
   "source": [
    "# Reading contents\n",
    "\n",
    "# Writing contents\n",
    "import sys\n",
    "try:\n",
    "    file = open(\"data\\\\file1.txt\",\"r\")\n",
    "    str1 = file.read()\n",
    "    print(str1)\n",
    "    file.close()\n",
    "except:\n",
    "    print(\"Error : \", sys.exc_info()[1])\n",
    "finally:\n",
    "    pass"
   ]
  }
 ],
 "metadata": {
  "kernelspec": {
   "display_name": "Python 3 (ipykernel)",
   "language": "python",
   "name": "python3"
  },
  "language_info": {
   "codemirror_mode": {
    "name": "ipython",
    "version": 3
   },
   "file_extension": ".py",
   "mimetype": "text/x-python",
   "name": "python",
   "nbconvert_exporter": "python",
   "pygments_lexer": "ipython3",
   "version": "3.10.0"
  }
 },
 "nbformat": 4,
 "nbformat_minor": 5
}
