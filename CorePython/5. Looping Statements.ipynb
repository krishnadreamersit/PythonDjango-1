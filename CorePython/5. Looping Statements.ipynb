{
 "cells": [
  {
   "cell_type": "code",
   "execution_count": 8,
   "id": "e2d24312",
   "metadata": {},
   "outputs": [],
   "source": [
    "# Looping Statements\n",
    "    # print Hello 1 time\n",
    "    # print Hello 2 time\n",
    "    # print Hello 3 time\n",
    "    # print Hello 4 time\n",
    "    # print Hello 5 time\n",
    "    \n",
    "    # 350\n",
    "    # run the statement(s) multiple times\n",
    "    \n",
    "    # how to design the loop\n",
    "        # start_no\n",
    "        # stop_no\n",
    "        # condition\n",
    "        # statement(s)\n",
    "        # modifier"
   ]
  },
  {
   "cell_type": "code",
   "execution_count": 7,
   "id": "1f515630",
   "metadata": {},
   "outputs": [
    {
     "name": "stdout",
     "output_type": "stream",
     "text": [
      "Hello\n",
      "Hello\n",
      "Hello\n",
      "Hello\n",
      "Hello\n"
     ]
    }
   ],
   "source": [
    "print(\"Hello\")\n",
    "print(\"Hello\")\n",
    "print(\"Hello\")\n",
    "print(\"Hello\")\n",
    "print(\"Hello\")"
   ]
  },
  {
   "cell_type": "code",
   "execution_count": null,
   "id": "da26cacc",
   "metadata": {},
   "outputs": [],
   "source": [
    "# while loop"
   ]
  },
  {
   "cell_type": "code",
   "execution_count": 11,
   "id": "47d2d417",
   "metadata": {},
   "outputs": [
    {
     "name": "stdout",
     "output_type": "stream",
     "text": [
      "Hello\n",
      "Hello\n",
      "Hello\n",
      "Hello\n",
      "Hello\n"
     ]
    }
   ],
   "source": [
    "# print hello 5 times\n",
    "start_no = 1 # start no\n",
    "stop_no = 5 # stop_no\n",
    "while(start_no<=stop_no): # condition\n",
    "    print(\"Hello\") # statement\n",
    "    start_no+=1 # modifier - increment"
   ]
  },
  {
   "cell_type": "code",
   "execution_count": 12,
   "id": "9d8ec883",
   "metadata": {},
   "outputs": [
    {
     "name": "stdout",
     "output_type": "stream",
     "text": [
      "Hello\n",
      "Hello\n",
      "Hello\n",
      "Hello\n",
      "Hello\n"
     ]
    }
   ],
   "source": [
    "# print hello 5 times\n",
    "start_no = 5 # start no\n",
    "stop_no = 1 # stop_no\n",
    "while(start_no>=stop_no): # condition\n",
    "    print(\"Hello\") # statement\n",
    "    start_no-=1 # modifier - decrement"
   ]
  },
  {
   "cell_type": "code",
   "execution_count": 3,
   "id": "83cee38f",
   "metadata": {},
   "outputs": [
    {
     "name": "stdout",
     "output_type": "stream",
     "text": [
      "Enter name  1 : name1\n",
      "Enter name  2 : name2\n",
      "Enter name  3 : name3\n",
      "Enter name  4 : name4\n",
      "Enter name  5 : name5\n",
      "Name  0 = name1\n",
      "Name  1 = name2\n",
      "Name  2 = name3\n",
      "Name  3 = name4\n",
      "Name  4 = name5\n"
     ]
    }
   ],
   "source": [
    "# accept 5 names from user and display them.\n",
    "    # decalre\n",
    "    # input\n",
    "    # process\n",
    "    # output\n",
    "    \n",
    "\n",
    "# declare\n",
    "start_no = None\n",
    "stop_no = None\n",
    "names = []\n",
    "\n",
    "# input\n",
    "start_no=1\n",
    "stop_no=5\n",
    "while(start_no<=stop_no):\n",
    "    tmp = input(\"Enter name  {} : \".format(start_no))\n",
    "    names.append(tmp)\n",
    "    start_no+=1\n",
    "\n",
    "# process\n",
    "# output\n",
    "start_no=0\n",
    "stop_no=5\n",
    "while(start_no<stop_no):\n",
    "    print(\"Name  {0} = {1}\".format(start_no, names[start_no]))\n",
    "    start_no+=1\n"
   ]
  },
  {
   "cell_type": "code",
   "execution_count": 8,
   "id": "d2893c23",
   "metadata": {},
   "outputs": [],
   "source": [
    "# for loop"
   ]
  },
  {
   "cell_type": "code",
   "execution_count": 11,
   "id": "291e1fec",
   "metadata": {},
   "outputs": [
    {
     "name": "stdout",
     "output_type": "stream",
     "text": [
      "range(0, 0)\n",
      "range(0, 5)\n",
      "range(1, 5)\n"
     ]
    }
   ],
   "source": [
    "print(range(0))\n",
    "print(range(5))\n",
    "print(range(1, 5))"
   ]
  },
  {
   "cell_type": "code",
   "execution_count": 14,
   "id": "ad57fbd3",
   "metadata": {},
   "outputs": [
    {
     "name": "stdout",
     "output_type": "stream",
     "text": [
      "1\n",
      "2\n",
      "3\n",
      "4\n",
      "5\n",
      "6\n",
      "7\n",
      "8\n",
      "9\n",
      "10\n"
     ]
    }
   ],
   "source": [
    "for i in range(0, 10):\n",
    "    print(i+1)"
   ]
  },
  {
   "cell_type": "code",
   "execution_count": 1,
   "id": "ec19e603",
   "metadata": {},
   "outputs": [
    {
     "name": "stdout",
     "output_type": "stream",
     "text": [
      "Hello\n",
      "Hello\n"
     ]
    }
   ],
   "source": [
    "# infinite loop using while loop\n",
    "# while(True):\n",
    "#     print(\"Hello\")\n",
    "\n",
    "# infinite loop using for loop\n",
    "# for _ in iter(int, 1):\n",
    "#     print(\"Hello\")\n",
    "\n",
    "# timer in python\n",
    "    # sleep program for certain interval \n",
    "    \n",
    "print(\"Hello\")\n",
    "# sleep for 5 seconds\n",
    "print(\"Hello\")"
   ]
  },
  {
   "cell_type": "code",
   "execution_count": 5,
   "id": "9ad26eae",
   "metadata": {},
   "outputs": [
    {
     "name": "stdout",
     "output_type": "stream",
     "text": [
      "Hello\n"
     ]
    }
   ],
   "source": [
    "# \n",
    "import threading\n",
    "\n",
    "def f1():\n",
    "    print(\"Hello\")\n",
    "    \n",
    "timer = threading.Timer(10, f1)\n",
    "timer.start()"
   ]
  },
  {
   "cell_type": "code",
   "execution_count": null,
   "id": "dae035a6",
   "metadata": {},
   "outputs": [],
   "source": [
    "# Create a digital clock?\n",
    "    # infinite loop\n",
    "    # timer"
   ]
  },
  {
   "cell_type": "code",
   "execution_count": null,
   "id": "296653b7",
   "metadata": {},
   "outputs": [],
   "source": [
    "# print 1 to 10."
   ]
  },
  {
   "cell_type": "code",
   "execution_count": 4,
   "id": "ffc91487",
   "metadata": {},
   "outputs": [],
   "source": [
    "# print 10 to 1."
   ]
  },
  {
   "cell_type": "code",
   "execution_count": 5,
   "id": "59206557",
   "metadata": {},
   "outputs": [],
   "source": [
    "# print sum of 1 to 10."
   ]
  },
  {
   "cell_type": "code",
   "execution_count": 6,
   "id": "75bda35b",
   "metadata": {},
   "outputs": [],
   "source": [
    "# print odd numbers between 1 to 10."
   ]
  },
  {
   "cell_type": "code",
   "execution_count": 7,
   "id": "aff7793a",
   "metadata": {},
   "outputs": [],
   "source": [
    "# print even numbers between 1 to 10."
   ]
  },
  {
   "cell_type": "code",
   "execution_count": 8,
   "id": "45dab4df",
   "metadata": {},
   "outputs": [
    {
     "name": "stdout",
     "output_type": "stream",
     "text": [
      "5040\n"
     ]
    }
   ],
   "source": [
    "# print factorial of 5.\n",
    "MAX = 7\n",
    "result = 1\n",
    "for n in range(1, MAX+1):\n",
    "    result *=n\n",
    "print(result)\n",
    "    "
   ]
  },
  {
   "cell_type": "code",
   "execution_count": null,
   "id": "74e3a8b5",
   "metadata": {},
   "outputs": [],
   "source": []
  }
 ],
 "metadata": {
  "kernelspec": {
   "display_name": "Python 3 (ipykernel)",
   "language": "python",
   "name": "python3"
  },
  "language_info": {
   "codemirror_mode": {
    "name": "ipython",
    "version": 3
   },
   "file_extension": ".py",
   "mimetype": "text/x-python",
   "name": "python",
   "nbconvert_exporter": "python",
   "pygments_lexer": "ipython3",
   "version": "3.10.0"
  }
 },
 "nbformat": 4,
 "nbformat_minor": 5
}
