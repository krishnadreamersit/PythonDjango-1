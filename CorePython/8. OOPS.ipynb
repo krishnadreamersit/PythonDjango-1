{
 "cells": [
  {
   "cell_type": "markdown",
   "id": "b2028e74",
   "metadata": {},
   "source": [
    "## OOPS"
   ]
  },
  {
   "cell_type": "code",
   "execution_count": 1,
   "id": "ff8cf037",
   "metadata": {},
   "outputs": [],
   "source": [
    "# Object Oriented Programming (OOP)\n",
    "    # Class (Blue-print), Object (Instance of a Class)"
   ]
  },
  {
   "cell_type": "code",
   "execution_count": 4,
   "id": "c53bc39d",
   "metadata": {},
   "outputs": [],
   "source": [
    "# how to create a class\n",
    "class Class1():\n",
    "    pass\n",
    "    # your code goes here\n",
    "    # decalre variable/input/process/output"
   ]
  },
  {
   "cell_type": "code",
   "execution_count": 5,
   "id": "500bc86b",
   "metadata": {},
   "outputs": [],
   "source": [
    "# how to create an object of a class\n",
    "obj1 = Class1()\n",
    "\n",
    "# through obj1 we can access the resources of Class1\n",
    "    # varaibles\n",
    "    # functions"
   ]
  },
  {
   "cell_type": "code",
   "execution_count": 19,
   "id": "99be45c5",
   "metadata": {},
   "outputs": [
    {
     "name": "stdout",
     "output_type": "stream",
     "text": [
      "Broadway\n",
      "Raj Rai\n",
      "Broadway\n",
      "Kiran Thapa\n",
      "2763681020320\n",
      "2763681011392\n",
      "<class '__main__.Class1'>\n",
      "<class '__main__.Class1'>\n",
      "True\n",
      "False\n",
      "True\n"
     ]
    }
   ],
   "source": [
    "# Task\n",
    "class Class1():\n",
    "    var1 = \"Broadway\" # default value\n",
    "\n",
    "obj1 = Class1() # object of class1\n",
    "print(obj1.var1) # Access the varaible\n",
    "\n",
    "obj1.var1 = \"Raj Rai\" # update value\n",
    "print(obj1.var1) # access the variable\n",
    "\n",
    "obj2 = Class1()\n",
    "print(obj2.var1) # Access the varaible\n",
    "\n",
    "obj2.var1 = \"Kiran Thapa\" # update value\n",
    "print(obj2.var1) # access the variable\n",
    "\n",
    "print(id(obj1))\n",
    "print(id(obj2))\n",
    "\n",
    "print(type(obj1))\n",
    "print(type(obj2))\n",
    "\n",
    "result = type(obj1) == type(obj2)\n",
    "print(result)\n",
    "\n",
    "result = obj1 is obj2\n",
    "print(result)\n",
    "\n",
    "result = obj1 is not obj2\n",
    "print(result)"
   ]
  },
  {
   "cell_type": "code",
   "execution_count": 25,
   "id": "f2c97ae1",
   "metadata": {},
   "outputs": [
    {
     "name": "stdout",
     "output_type": "stream",
     "text": [
      "Hello from print_info()\n",
      "Hello from print_info()\n"
     ]
    }
   ],
   "source": [
    "# Class with methods (functions)\n",
    "class Class1():\n",
    "    def print_info(self):\n",
    "        print(\"Hello from print_info()\")\n",
    "\n",
    "obj1 = Class1()\n",
    "obj1.print_info()# self\n",
    "\n",
    "obj2 = Class1()\n",
    "obj2.print_info()\n"
   ]
  },
  {
   "cell_type": "code",
   "execution_count": 39,
   "id": "07c6cfb7",
   "metadata": {},
   "outputs": [
    {
     "name": "stdout",
     "output_type": "stream",
     "text": [
      "Raj Rai\n"
     ]
    }
   ],
   "source": [
    "# Class with varaible and methods\n",
    "class Class1():\n",
    "    fullName=None\n",
    "    \n",
    "    def setFullName(self, full_name):\n",
    "        fullName=full_name\n",
    "        print(fullName)\n",
    "        \n",
    "#     def getFullName(self):\n",
    "#         print(fullName)\n",
    "\n",
    "obj1 = Class1()\n",
    "obj1.setFullName(\"Raj Rai\")# can set\n",
    "# obj1.getFullName() # cannt get"
   ]
  },
  {
   "cell_type": "code",
   "execution_count": 75,
   "id": "16cb0b3f",
   "metadata": {},
   "outputs": [
    {
     "name": "stdout",
     "output_type": "stream",
     "text": [
      "Raj\n",
      "Kiran Thapa\n"
     ]
    }
   ],
   "source": [
    "# Class with instance varaible\n",
    "class Class1():\n",
    "    def __init__(self, full_name=\"\"): # Constructor\n",
    "        self.full_name=full_name # instance varaible\n",
    "    \n",
    "    def setFullName(self, full_name): # setter method\n",
    "        self.full_name=full_name\n",
    "    \n",
    "    def getFullName(self): # getter method\n",
    "        return self.full_name\n",
    "    \n",
    "obj1= Class1(\"Raj\")\n",
    "print(obj1.getFullName())\n",
    "\n",
    "obj1.setFullName(\"Kiran Thapa\")\n",
    "print(obj1.getFullName())"
   ]
  },
  {
   "cell_type": "code",
   "execution_count": 76,
   "id": "093bb33b",
   "metadata": {},
   "outputs": [],
   "source": [
    "# Student processing system - convert to OOP and Test"
   ]
  },
  {
   "cell_type": "code",
   "execution_count": null,
   "id": "44b93ee9",
   "metadata": {},
   "outputs": [],
   "source": []
  }
 ],
 "metadata": {
  "kernelspec": {
   "display_name": "Python 3 (ipykernel)",
   "language": "python",
   "name": "python3"
  },
  "language_info": {
   "codemirror_mode": {
    "name": "ipython",
    "version": 3
   },
   "file_extension": ".py",
   "mimetype": "text/x-python",
   "name": "python",
   "nbconvert_exporter": "python",
   "pygments_lexer": "ipython3",
   "version": "3.10.0"
  }
 },
 "nbformat": 4,
 "nbformat_minor": 5
}
