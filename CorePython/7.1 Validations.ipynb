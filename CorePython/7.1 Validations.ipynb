{
 "cells": [
  {
   "cell_type": "code",
   "execution_count": 1,
   "id": "d56c1504",
   "metadata": {},
   "outputs": [],
   "source": [
    "# integer validation"
   ]
  },
  {
   "cell_type": "code",
   "execution_count": 2,
   "id": "e439cd37",
   "metadata": {},
   "outputs": [],
   "source": [
    "# string validation"
   ]
  },
  {
   "cell_type": "code",
   "execution_count": 3,
   "id": "ab272fbc",
   "metadata": {},
   "outputs": [],
   "source": [
    "# float validation"
   ]
  },
  {
   "cell_type": "code",
   "execution_count": 4,
   "id": "cc53d6d9",
   "metadata": {},
   "outputs": [],
   "source": [
    "# email validation"
   ]
  },
  {
   "cell_type": "code",
   "execution_count": 5,
   "id": "b641b71b",
   "metadata": {},
   "outputs": [],
   "source": [
    "# phone no validation"
   ]
  },
  {
   "cell_type": "code",
   "execution_count": null,
   "id": "8a5b0937",
   "metadata": {},
   "outputs": [],
   "source": [
    "# name (first name, last name, and middle name) validation"
   ]
  }
 ],
 "metadata": {
  "kernelspec": {
   "display_name": "Python 3 (ipykernel)",
   "language": "python",
   "name": "python3"
  },
  "language_info": {
   "codemirror_mode": {
    "name": "ipython",
    "version": 3
   },
   "file_extension": ".py",
   "mimetype": "text/x-python",
   "name": "python",
   "nbconvert_exporter": "python",
   "pygments_lexer": "ipython3",
   "version": "3.10.0"
  }
 },
 "nbformat": 4,
 "nbformat_minor": 5
}
