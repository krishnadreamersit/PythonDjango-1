{
 "cells": [
  {
   "cell_type": "markdown",
   "id": "a3f3b876",
   "metadata": {},
   "source": [
    "# Write/read content on/from file"
   ]
  },
  {
   "cell_type": "code",
   "execution_count": 1,
   "id": "b380a91b",
   "metadata": {},
   "outputs": [],
   "source": [
    "# File/Folder\n",
    "# path\n",
    "    # relative path ... folder\\file (inside current folder)\n",
    "    # absolute path ... drive\\folder\\file\n",
    "# filename (filename.extensionname)\n",
    "# nework pc (\\\\networkpcname\\foldername\\filename)\n",
    "    # read/write permission allowed"
   ]
  },
  {
   "cell_type": "code",
   "execution_count": 12,
   "id": "5a9dc44d",
   "metadata": {},
   "outputs": [
    {
     "name": "stdout",
     "output_type": "stream",
     "text": [
      "File open successfully\n",
      "File close successfully\n"
     ]
    }
   ],
   "source": [
    "# Creating new file\n",
    "# open(filename)\n",
    "# open(filename, mode) # read or write\n",
    "\n",
    "# Example\n",
    "import sys\n",
    "try:\n",
    "    file1 = open(\"data\\\\file1.txt\")# open file\n",
    "    print(\"File open successfully\")\n",
    "    file1.close()\n",
    "    print(\"File close successfully\")\n",
    "except:\n",
    "    print(\"Error : \", sys.exc_info()[1])\n",
    "finally:\n",
    "    pass"
   ]
  },
  {
   "cell_type": "code",
   "execution_count": 20,
   "id": "5bb7f969",
   "metadata": {},
   "outputs": [
    {
     "name": "stdout",
     "output_type": "stream",
     "text": [
      "File create succssfully\n"
     ]
    }
   ],
   "source": [
    "import sys\n",
    "try:\n",
    "    file1 = open(\"data\\\\file3.txt\", \"w\") # \"w\" - write mode; \"r\" - read mode\n",
    "    file1.close()\n",
    "    print(\"File create succssfully\")\n",
    "except:\n",
    "    print(\"Error : \", sys.exc_info()[1])\n",
    "finally:\n",
    "    pass"
   ]
  },
  {
   "cell_type": "code",
   "execution_count": 21,
   "id": "36803ab6",
   "metadata": {},
   "outputs": [
    {
     "name": "stdout",
     "output_type": "stream",
     "text": [
      "File create succssfully\n"
     ]
    }
   ],
   "source": [
    "import sys\n",
    "try:\n",
    "    file1 = open(\"data\\\\file3.txt\", \"a\") # \"w\" - write mode; \"r\" - read mode\n",
    "    file1.close()\n",
    "    print(\"File create succssfully\")\n",
    "except:\n",
    "    print(\"Error : \", sys.exc_info()[1])\n",
    "finally:\n",
    "    pass"
   ]
  },
  {
   "cell_type": "code",
   "execution_count": 22,
   "id": "d7d26560",
   "metadata": {},
   "outputs": [],
   "source": [
    "# \"r\" - read only\n",
    "# \"w\" - write\n",
    "# \"a\" - append"
   ]
  },
  {
   "cell_type": "code",
   "execution_count": 27,
   "id": "6d18ff18",
   "metadata": {},
   "outputs": [
    {
     "name": "stdout",
     "output_type": "stream",
     "text": [
      "Write content on file successfully\n"
     ]
    }
   ],
   "source": [
    "# Writing contents\n",
    "import sys\n",
    "try:\n",
    "    str1 = \"Hello from Python123!\"\n",
    "    file = open(\"data\\\\file1.txt\",\"w\")\n",
    "    file.write(str1)\n",
    "    file.close()\n",
    "    print(\"Write content on file successfully\")\n",
    "except:\n",
    "    print(\"Error : \", sys.exc_info()[1])\n",
    "finally:\n",
    "    pass"
   ]
  },
  {
   "cell_type": "code",
   "execution_count": 28,
   "id": "b52a0d14",
   "metadata": {},
   "outputs": [
    {
     "name": "stdout",
     "output_type": "stream",
     "text": [
      "Hello from Python123!\n"
     ]
    }
   ],
   "source": [
    "# Reading contents\n",
    "\n",
    "# Writing contents\n",
    "import sys\n",
    "try:\n",
    "    file = open(\"data\\\\file1.txt\",\"r\")\n",
    "    str1 = file.read()\n",
    "    print(str1)\n",
    "    file.close()\n",
    "except:\n",
    "    print(\"Error : \", sys.exc_info()[1])\n",
    "finally:\n",
    "    pass"
   ]
  },
  {
   "cell_type": "code",
   "execution_count": null,
   "id": "0c904787",
   "metadata": {},
   "outputs": [],
   "source": []
  }
 ],
 "metadata": {
  "kernelspec": {
   "display_name": "Python 3 (ipykernel)",
   "language": "python",
   "name": "python3"
  },
  "language_info": {
   "codemirror_mode": {
    "name": "ipython",
    "version": 3
   },
   "file_extension": ".py",
   "mimetype": "text/x-python",
   "name": "python",
   "nbconvert_exporter": "python",
   "pygments_lexer": "ipython3",
   "version": "3.10.0"
  }
 },
 "nbformat": 4,
 "nbformat_minor": 5
}
