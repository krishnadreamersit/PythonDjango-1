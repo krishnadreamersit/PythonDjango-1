{
 "cells": [
  {
   "cell_type": "code",
   "execution_count": 16,
   "id": "6859cb43",
   "metadata": {},
   "outputs": [],
   "source": [
    "# Other Statments\n",
    "    # range()\n",
    "    # pass"
   ]
  },
  {
   "cell_type": "code",
   "execution_count": 17,
   "id": "570e0979",
   "metadata": {},
   "outputs": [
    {
     "name": "stdout",
     "output_type": "stream",
     "text": [
      "range(0, 10)\n",
      "range(1, 10)\n",
      "range(10, 1)\n"
     ]
    }
   ],
   "source": [
    "# range\n",
    "print(range(10))\n",
    "print(range(1, 10))\n",
    "print(range(10, 1))"
   ]
  },
  {
   "cell_type": "code",
   "execution_count": 10,
   "id": "c3ab6cb1",
   "metadata": {},
   "outputs": [
    {
     "data": {
      "text/plain": [
       "sys.version_info(major=3, minor=10, micro=0, releaselevel='final', serial=0)"
      ]
     },
     "execution_count": 10,
     "metadata": {},
     "output_type": "execute_result"
    }
   ],
   "source": [
    "# import sys\n",
    "# sys.version\n",
    "# sys.version_info"
   ]
  },
  {
   "cell_type": "code",
   "execution_count": 1,
   "id": "237372b4",
   "metadata": {},
   "outputs": [],
   "source": [
    "# pass\n",
    "def f1():\n",
    "    pass\n",
    "\n",
    "if True:\n",
    "    pass\n",
    "\n",
    "# while(True):\n",
    "#     pass\n",
    "\n",
    "class C1():\n",
    "    pass"
   ]
  },
  {
   "cell_type": "code",
   "execution_count": 3,
   "id": "07c28dd8",
   "metadata": {},
   "outputs": [
    {
     "name": "stdout",
     "output_type": "stream",
     "text": [
      "1\n",
      "2\n",
      "3\n",
      "4\n"
     ]
    }
   ],
   "source": [
    "# break, continue\n",
    "\n",
    "# break\n",
    "start = 1\n",
    "stop = 10\n",
    "while(start<=stop):\n",
    "    if(start == 5):\n",
    "        break\n",
    "    print(start)\n",
    "    start+=1"
   ]
  },
  {
   "cell_type": "code",
   "execution_count": 5,
   "id": "2079134b",
   "metadata": {},
   "outputs": [
    {
     "name": "stdout",
     "output_type": "stream",
     "text": [
      "1\n",
      "2\n",
      "3\n",
      "4\n",
      "6\n",
      "8\n",
      "9\n",
      "10\n"
     ]
    }
   ],
   "source": [
    "# continue\n",
    "start = 0\n",
    "stop = 10\n",
    "while(start<stop):\n",
    "    start+=1\n",
    "    if(start == 5 or start==7):\n",
    "        continue\n",
    "    print(start)\n",
    "    "
   ]
  },
  {
   "cell_type": "code",
   "execution_count": 9,
   "id": "318a4ea5",
   "metadata": {},
   "outputs": [
    {
     "name": "stdout",
     "output_type": "stream",
     "text": [
      "(45+205j)\n"
     ]
    }
   ],
   "source": [
    "# print(10*3)\n",
    "# print(12.34*34.21)\n",
    "print(45+8j * 23+21j)"
   ]
  },
  {
   "cell_type": "code",
   "execution_count": 29,
   "id": "2b918ca1",
   "metadata": {},
   "outputs": [],
   "source": [
    "import random\n",
    "def f1():\n",
    "    return 'Hello'\n",
    "\n",
    "def f2():\n",
    "    return 5\n",
    "\n",
    "def f3():\n",
    "    result = random.randint(1, 5)\n",
    "    return result\n",
    "    # return random number\n",
    "    "
   ]
  },
  {
   "cell_type": "code",
   "execution_count": 31,
   "id": "df572e17",
   "metadata": {},
   "outputs": [
    {
     "name": "stdout",
     "output_type": "stream",
     "text": [
      "Hello\n",
      "Hello\n",
      "5\n",
      "5\n",
      "4\n"
     ]
    }
   ],
   "source": [
    "print(f1()) # call\n",
    "print(f1())\n",
    "print(f2())\n",
    "print(f2())\n",
    "print(f3())"
   ]
  },
  {
   "cell_type": "code",
   "execution_count": 39,
   "id": "c7cacdbe",
   "metadata": {},
   "outputs": [
    {
     "name": "stdout",
     "output_type": "stream",
     "text": [
      "3\n"
     ]
    }
   ],
   "source": [
    "import random\n",
    "# randint(self, a, b)\n",
    "result = random.randint(1, 5)\n",
    "print(result)\n",
    "\n",
    "# dir(random)\n",
    "# help(random)"
   ]
  },
  {
   "cell_type": "code",
   "execution_count": null,
   "id": "4df0b6f9",
   "metadata": {},
   "outputs": [],
   "source": []
  }
 ],
 "metadata": {
  "kernelspec": {
   "display_name": "Python 3 (ipykernel)",
   "language": "python",
   "name": "python3"
  },
  "language_info": {
   "codemirror_mode": {
    "name": "ipython",
    "version": 3
   },
   "file_extension": ".py",
   "mimetype": "text/x-python",
   "name": "python",
   "nbconvert_exporter": "python",
   "pygments_lexer": "ipython3",
   "version": "3.10.0"
  }
 },
 "nbformat": 4,
 "nbformat_minor": 5
}
