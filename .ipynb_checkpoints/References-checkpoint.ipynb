{
 "cells": [
  {
   "cell_type": "code",
   "execution_count": 1,
   "id": "3d180b5d",
   "metadata": {},
   "outputs": [],
   "source": [
    "# References"
   ]
  },
  {
   "cell_type": "code",
   "execution_count": null,
   "id": "fe289705",
   "metadata": {},
   "outputs": [],
   "source": [
    "# python -m pip install --upgrade pip\n",
    "\n",
    "# python\n",
    "\n",
    "# pip install django\n",
    "# django-admin version\n",
    "\n",
    "# pip install virtualenv\n",
    "# virtualenv --version\n",
    "# python -m venv env1\n",
    "# venv\\script\\activate.bat\n",
    "# venv\\script\\deactivate.bat\n",
    "\n",
    "# pip freeze > libs.txt\n",
    "# pip install -r libs.txt\n",
    "\n",
    "# django-admin startproject MySite # Create project\n",
    "# python MySite\\manage.py runserver # Start project\n",
    "# browse website using browser (http://127.0.0.1:8000)"
   ]
  }
 ],
 "metadata": {
  "kernelspec": {
   "display_name": "Python 3 (ipykernel)",
   "language": "python",
   "name": "python3"
  },
  "language_info": {
   "codemirror_mode": {
    "name": "ipython",
    "version": 3
   },
   "file_extension": ".py",
   "mimetype": "text/x-python",
   "name": "python",
   "nbconvert_exporter": "python",
   "pygments_lexer": "ipython3",
   "version": "3.10.0"
  }
 },
 "nbformat": 4,
 "nbformat_minor": 5
}
