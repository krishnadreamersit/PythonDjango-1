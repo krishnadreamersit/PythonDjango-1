{
 "cells": [
  {
   "cell_type": "code",
   "execution_count": 1,
   "id": "5de29a56",
   "metadata": {},
   "outputs": [],
   "source": [
    "# Selections\n",
    "    # if statement\n",
    "    # if ... else statement\n",
    "    # if ... elif.... else statement\n",
    "    # nested if statements\n",
    "\n",
    "    # match statement"
   ]
  },
  {
   "cell_type": "code",
   "execution_count": 3,
   "id": "79dab99c",
   "metadata": {},
   "outputs": [
    {
     "name": "stdout",
     "output_type": "stream",
     "text": [
      "Enter any number : 21\n"
     ]
    }
   ],
   "source": [
    "# if statements\n",
    "num1 = int(input(\"Enter any number : \"))\n",
    "if(num1 == 5):\n",
    "    print(\"five\")"
   ]
  },
  {
   "cell_type": "code",
   "execution_count": null,
   "id": "0143b393",
   "metadata": {},
   "outputs": [
    {
     "name": "stdout",
     "output_type": "stream",
     "text": [
      "Enter any number : 21\n"
     ]
    }
   ],
   "source": [
    "# if statements\n",
    "num1 = int(input(\"Enter any number : \"))\n",
    "if num1 != 5:\n",
    "    print(\"others\")"
   ]
  },
  {
   "cell_type": "code",
   "execution_count": 3,
   "id": "9568202a",
   "metadata": {},
   "outputs": [
    {
     "name": "stdout",
     "output_type": "stream",
     "text": [
      "Enter any number : 12\n",
      "None Zero\n"
     ]
    }
   ],
   "source": [
    "# if .... else statement\n",
    "num1 = int(input(\"Enter any number : \"))\n",
    "if(num1 == 0):\n",
    "    print(\"Zero\")\n",
    "else:\n",
    "    print(\"None Zero\")"
   ]
  },
  {
   "cell_type": "code",
   "execution_count": 5,
   "id": "ea7767d2",
   "metadata": {},
   "outputs": [
    {
     "name": "stdout",
     "output_type": "stream",
     "text": [
      "Enter any number : 10\n",
      "out of range\n"
     ]
    }
   ],
   "source": [
    "# if...elif...else statment\n",
    "num1 = int(input(\"Enter any number : \"))\n",
    "if(num1 == 1):\n",
    "    print(\"SUN\")\n",
    "elif(num1 == 2):\n",
    "    print(\"MON\")\n",
    "elif(num1==3):\n",
    "    print(\"TUE\")\n",
    "elif(num1==4):\n",
    "    print(\"WED\")\n",
    "elif(num1==5):\n",
    "    print(\"THU\")\n",
    "elif(num1==6):\n",
    "    print(\"FRI\")\n",
    "elif(num1==7):\n",
    "    print(\"SAT\")\n",
    "else:\n",
    "    print(\"out of range\")"
   ]
  },
  {
   "cell_type": "code",
   "execution_count": 1,
   "id": "16419d4f",
   "metadata": {},
   "outputs": [
    {
     "name": "stdout",
     "output_type": "stream",
     "text": [
      "Enter any number : 45\n",
      "Enter any number : 43\n",
      "Enter any number : 32\n",
      "FAIL\n"
     ]
    }
   ],
   "source": [
    "# nested if statement\n",
    "num1 = int(input(\"Enter any number : \"))\n",
    "num2 = int(input(\"Enter any number : \"))\n",
    "num3 = int(input(\"Enter any number : \"))\n",
    "PM = 40\n",
    "result=\"FAIL\"\n",
    "if(num1>=PM):\n",
    "    if(num2>=PM):\n",
    "        if(num3>=PM):\n",
    "            result=\"PASS\"\n",
    "print(result)"
   ]
  },
  {
   "cell_type": "code",
   "execution_count": 3,
   "id": "a287d98c",
   "metadata": {},
   "outputs": [
    {
     "name": "stdout",
     "output_type": "stream",
     "text": [
      "Enter any number : 34\n",
      "Enter any number : 43\n",
      "Enter any number : 45\n",
      "FAIL\n"
     ]
    }
   ],
   "source": [
    "# if statement with multiple conditions\n",
    "num1 = int(input(\"Enter any number : \"))\n",
    "num2 = int(input(\"Enter any number : \"))\n",
    "num3 = int(input(\"Enter any number : \"))\n",
    "PM = 40\n",
    "result=\"FAIL\"\n",
    "if num1>=PM and num2>=PM and num3>=PM:\n",
    "    result=\"PASS\"\n",
    "print(result)"
   ]
  },
  {
   "cell_type": "code",
   "execution_count": 4,
   "id": "bcaab5a0",
   "metadata": {},
   "outputs": [
    {
     "name": "stdout",
     "output_type": "stream",
     "text": [
      "Enter any number : 21\n",
      "Enter any number : 2\n",
      "Enter any number : 33\n",
      "PASS\n"
     ]
    }
   ],
   "source": [
    "# if statement with multiple conditions\n",
    "num1 = int(input(\"Enter any number : \"))\n",
    "num2 = int(input(\"Enter any number : \"))\n",
    "num3 = int(input(\"Enter any number : \"))\n",
    "PM = 40\n",
    "result=\"PASS\"\n",
    "if num1>=PM or num2>=PM or num3>=PM:\n",
    "    result=\"FAIL\"\n",
    "print(result)"
   ]
  },
  {
   "cell_type": "code",
   "execution_count": 8,
   "id": "c0395883",
   "metadata": {},
   "outputs": [
    {
     "name": "stdout",
     "output_type": "stream",
     "text": [
      "Enter any number : 1\n",
      "SUN\n"
     ]
    }
   ],
   "source": [
    "# match statement - new in python 3.10\n",
    "num1 = int(input(\"Enter any number : \"))\n",
    "\n",
    "match num1:\n",
    "    case 1:\n",
    "        print(\"SUN\")\n",
    "    case 2:\n",
    "        print(\"MON\")\n",
    "    case _:\n",
    "        print(\"OTHERS\")"
   ]
  },
  {
   "cell_type": "code",
   "execution_count": null,
   "id": "2be46aa1",
   "metadata": {},
   "outputs": [],
   "source": []
  }
 ],
 "metadata": {
  "kernelspec": {
   "display_name": "Python 3 (ipykernel)",
   "language": "python",
   "name": "python3"
  },
  "language_info": {
   "codemirror_mode": {
    "name": "ipython",
    "version": 3
   },
   "file_extension": ".py",
   "mimetype": "text/x-python",
   "name": "python",
   "nbconvert_exporter": "python",
   "pygments_lexer": "ipython3",
   "version": "3.10.0"
  }
 },
 "nbformat": 4,
 "nbformat_minor": 5
}
