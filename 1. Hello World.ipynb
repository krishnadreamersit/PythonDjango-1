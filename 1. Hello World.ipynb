{
 "cells": [
  {
   "cell_type": "code",
   "execution_count": 1,
   "id": "c1c17566",
   "metadata": {},
   "outputs": [
    {
     "name": "stdout",
     "output_type": "stream",
     "text": [
      "Hello world\n"
     ]
    }
   ],
   "source": [
    "print(\"Hello world\")"
   ]
  },
  {
   "cell_type": "code",
   "execution_count": 6,
   "id": "cbb8c747",
   "metadata": {},
   "outputs": [
    {
     "name": "stdout",
     "output_type": "stream",
     "text": [
      "Enter any string : kathmandu\n"
     ]
    }
   ],
   "source": [
    "from gtts import gTTS # pip install gTTS\n",
    "from playsound import playsound # pip install playsound\n",
    "import os\n",
    "\n",
    "# mytext = 'Welcome to Broadway Infosys'\n",
    "mytext = input(\"Enter any string : \")# reading string from keyboard\n",
    " \n",
    "language = 'en'\n",
    "myobj = gTTS(text=mytext, lang=language, slow=False)\n",
    "myobj.save(\"welcome.mp3\")\n",
    "# os.system(\"mpg321 welcome.mp3\")\n",
    "playsound('welcome.mp3')"
   ]
  },
  {
   "cell_type": "code",
   "execution_count": 15,
   "id": "2b51a1aa",
   "metadata": {},
   "outputs": [
    {
     "name": "stdout",
     "output_type": "stream",
     "text": [
      "124\n",
      "123\n",
      "123.567\n",
      "123.567\n",
      "120\n",
      "True\n",
      "False\n",
      "5.477225575051661\n"
     ]
    }
   ],
   "source": [
    "import math\n",
    "\n",
    "result = math.ceil(123.456)\n",
    "print(result)\n",
    "\n",
    "result = math.floor(123.456)\n",
    "print(result)\n",
    "\n",
    "result = math.fabs(123.567)\n",
    "print(result)\n",
    "\n",
    "result = math.fabs(-123.567)\n",
    "print(result)\n",
    "\n",
    "result = math.factorial(5)\n",
    "print(result)\n",
    "\n",
    "result = math.isfinite(1232903860238602806809680983604567890)\n",
    "print(result)\n",
    "\n",
    "result = math.isnan(2444)\n",
    "print(result)\n",
    "\n",
    "# result = math.isnan(\"sdg436sdgse6\")\n",
    "# print(result)\n",
    "\n",
    "result = math.sqrt(30)\n",
    "print(result)"
   ]
  },
  {
   "cell_type": "code",
   "execution_count": null,
   "id": "0253a8c7",
   "metadata": {},
   "outputs": [],
   "source": []
  }
 ],
 "metadata": {
  "kernelspec": {
   "display_name": "Python 3 (ipykernel)",
   "language": "python",
   "name": "python3"
  },
  "language_info": {
   "codemirror_mode": {
    "name": "ipython",
    "version": 3
   },
   "file_extension": ".py",
   "mimetype": "text/x-python",
   "name": "python",
   "nbconvert_exporter": "python",
   "pygments_lexer": "ipython3",
   "version": "3.10.0"
  }
 },
 "nbformat": 4,
 "nbformat_minor": 5
}
